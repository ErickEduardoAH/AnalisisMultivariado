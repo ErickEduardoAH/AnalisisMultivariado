{
 "cells": [
  {
   "cell_type": "markdown",
   "metadata": {},
   "source": [
    "# 3.3 Multidimensional Scaling\n",
    "\n",
    "---\n",
    "> Erick Eduardo Aguilar Hernández:\n",
    "> * mat.ErickAguilar@gmail.com.mx\n",
    "> * isc.ErickAguilar@gmail.com"
   ]
  },
  {
   "cell_type": "markdown",
   "metadata": {},
   "source": [
    "### Distances, disimilarities, similarities\n",
    "___\n",
    "\n",
    "Given two objects $x$ and $y$ in any space $S$, the distance (dissimilarity) between these objects is a function $d$ its a numerical measure of how different two objects are: \n",
    "\n",
    "lets $d(x,y): S \\times S \\rightarrow \\mathbb{R^+} \\cup \\{0\\}$ such that:\n",
    "* $d(x,y) \\ge 0$\n",
    "* $d(x,y)=0$ if and only if $x=y$\n",
    "* $d(x,y)=d(y,x)$\n",
    "* $d(x,y) \\leq d(x,z)+d(z,y)$\n",
    "\n",
    "A distance that satisfies these properties is called a metric. Given $\\mathbf{x,y} \\in \\mathbb{R}^p$ the following functions are distances:\n",
    "\n",
    "* **Euclidean distance**:\n",
    "\n",
    "$d(\\mathbf{x,y}) = \\sqrt{(x_1-y_1)^2+ \\dots (x_p-y_p)^2} = \\sqrt{\\mathbf{(x-y)'(x-y)}}$\n",
    "\n",
    "* **Minkowsky distance**:\n",
    "\n",
    "$d(\\mathbf{x,y}) = \\left[ \\sum_{i=1}^p \\left|x_i - y_i \\right| \\right]^{\\frac{1}{\\lambda}}$\n",
    "\n",
    "* **Mahalanobis distance**:\n",
    "\n",
    "$d(\\mathbf{x,y}) = \\sqrt{\\mathbf{(x-y)'S^{-1}(x-y)}}$\n",
    "\n",
    "A similarity measure its a function $d(x,y): S \\times S \\rightarrow [0,1]$ such that.\n",
    "\n",
    "* $0 \\leq d(x,y) \\leq 1$\n",
    "* $d(x,y)=1$ if and only if $x=y$\n",
    "* $d(x,y)=d(y,x)$\n",
    "\n",
    "The following functions are similarities:\n",
    "\n",
    "**Cosine similarity**\n",
    "\n",
    "Given $\\mathbf{x,y} \\in \\mathbb{R}^n$, $d(\\mathbf{x,y}) = \\mathbf{\\frac{<x,y>}{||x||||y||}}$\n",
    "\n",
    "**The correlation**\n",
    "\n",
    "Given X,Y random variables, $d(X,Y) = \\frac{Cov(X,Y)}{\\sqrt{Var(X) Var(Y)}}$\n",
    "\n",
    "**The Jaccard index**\n",
    "\n",
    "Given X,Y finite sets, $d(X,Y) = \\frac{|X \\cap Y|}{|X \\cup Y|}$"
   ]
  }
 ],
 "metadata": {
  "kernelspec": {
   "display_name": "Python 3",
   "language": "python",
   "name": "python3"
  },
  "language_info": {
   "codemirror_mode": {
    "name": "ipython",
    "version": 3
   },
   "file_extension": ".py",
   "mimetype": "text/x-python",
   "name": "python",
   "nbconvert_exporter": "python",
   "pygments_lexer": "ipython3",
   "version": "3.6.2"
  }
 },
 "nbformat": 4,
 "nbformat_minor": 2
}
