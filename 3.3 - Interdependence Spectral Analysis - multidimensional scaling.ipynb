{
 "cells": [
  {
   "cell_type": "markdown",
   "metadata": {},
   "source": [
    "# 3.3 Multidimensional Scaling\n",
    "\n",
    "---\n",
    "> Erick Eduardo Aguilar Hernández:\n",
    "> * mat.ErickAguilar@gmail.com.mx\n",
    "> * isc.ErickAguilar@gmail.com"
   ]
  },
  {
   "cell_type": "markdown",
   "metadata": {},
   "source": [
    "### Distances, disimilarities, similarities\n",
    "___\n",
    "\n",
    "#### Distances and disimilarities\n",
    "Given two objects $x$ and $y$ in any space $\\Omega$, the distance (dissimilarity) between these objects is a function $d$ its a numerical measure of how different two objects are: \n",
    "\n",
    "Lets the disimilarity $d(x,y): \\Omega \\times \\Omega \\rightarrow \\mathbb{R^+} \\cup \\{0\\}$ such that:\n",
    "* $d(x,y) \\ge 0$\n",
    "* $d(x,y)=0$ if and only if $x=y$\n",
    "* $d(x,y)=d(y,x)$\n",
    "* $d(x,y) \\leq d(x,z)+d(z,y)$\n",
    "\n",
    "A distance that satisfies these properties is called a metric. Given $\\mathbf{x,y} \\in \\mathbb{R}^p$ the following functions are distances:\n",
    "\n",
    "* Euclidean distance:\n",
    "\n",
    "$d_E(\\mathbf{x,y}) = \\sqrt{(x_1-y_1)^2+ \\dots (x_p-y_p)^2} = \\sqrt{\\mathbf{(x-y)'(x-y)}}$\n",
    "\n",
    "* Minkowsky distance:\n",
    "\n",
    "$d(\\mathbf{x,y}) = \\left[ \\sum_{i=1}^p \\left|x_i - y_i \\right| \\right]^{\\frac{1}{\\lambda}}$\n",
    "\n",
    "* Mahalanobis distance:\n",
    "\n",
    "$d(\\mathbf{x,y}) = \\sqrt{\\mathbf{(x-y)'S^{-1}(x-y)}}$\n",
    "\n",
    "#### Similarities\n",
    "\n",
    "A similarity measure its a function $s$ of how alike two data objects are. \n",
    "\n",
    "Lets the similarity $s(x,y): \\Omega \\times \\Omega \\rightarrow \\mathbb{R}$ such that\n",
    "\n",
    "* $s(x,y) \\leq 1$\n",
    "* $s(x,y)=1$ if and only if $x=y$\n",
    "* $s(x,y)=s(y,x)$\n",
    "\n",
    "The following functions are similarities:\n",
    "\n",
    "* Cosine similarity: Given $\\mathbf{x,y} \\in \\mathbb{R}$\n",
    "\n",
    "$s(\\mathbf{x,y}) = \\mathbf{\\frac{<x,y>}{||x||||y||}}$\n",
    "\n",
    "* The correlation: Given X,Y random variables\n",
    "\n",
    "$s(X,Y) =  \\frac{Cov(X,Y)}{\\sqrt{Var(X) Var(Y)}}$\n",
    "\n",
    "* The Jaccard index: Given X,Y finite sets\n",
    "\n",
    "$s(X,Y) = \\frac{|X \\cap Y|}{|X \\cup Y|}$"
   ]
  },
  {
   "cell_type": "markdown",
   "metadata": {},
   "source": [
    "### Metric Multidimensional Scaling\n",
    "___\n",
    "\n",
    "The objetive of metric multidimensional scaling (MDS) is map a finite set $\\Omega$ into a euclidean metric space $\\mathfbb{R^p}$ set when we have a distance between the elements of the original set $\\Omega$, such that the Euclidean distances of the approach as best as possible to the original distances.\n",
    "\n",
    "Lets $(\\Omega,\\delta)$ the space $\\Omega=\\{\\omega_1,...,\\omega_n\\}$ with its defined disimililarity measure. The distance matrix $\\Delta$ is defined as follows.\n",
    "\n",
    "$$\n",
    "\\Delta = \n",
    "\\left[ \\begin{array}{ccccc}\n",
    "\\delta_{1 1} & \\cdots & \\delta_{1 n} \\\\\n",
    "\\vdots  & \\ddots & \\vdots \\\\\n",
    "\\delta_{n 1} & \\cdots & \\delta_{n n} \\end{array} \\right]\n",
    "$$\n",
    "\n",
    "Where $\\delta_{i j}=\\delta(\\omega_i, \\omega_j)$, Since MDS try to preserve the distance then $\\delta_{i j}^2=d_E^2(\\mathbf{x_i,x_j})$\n",
    "\n"
   ]
  },
  {
   "cell_type": "markdown",
   "metadata": {},
   "source": [
    "$$\n",
    "\\begin{align*}\n",
    "\\Delta^{(2)}=\n",
    "\\left[ \\begin{array}{ccccc}\n",
    "\\delta_{1 1}^2 & \\cdots & \\delta_{1 n}^2 \\\\\n",
    "\\vdots  & \\ddots & \\vdots \\\\\n",
    "\\delta_{n 1}^2 & \\cdots & \\delta_{n n}^2 \\end{array} \\right]\n",
    "& =\n",
    "\\left[ \\begin{array}{ccccc}\n",
    "d_E^2(\\mathbf{x_1,x_1}) & \\cdots & d_E^2(\\mathbf{x_1,x_n}) \\\\\n",
    "\\vdots  & \\ddots & \\vdots \\\\\n",
    "d_E^2(\\mathbf{x_n,x_1}) & \\cdots & d_E^2(\\mathbf{x_n,x_n}) \\end{array} \\right] \\\\ \\\\\n",
    "& = \\left[ \\begin{array}{ccccc}\n",
    "\\mathbf{(x_1-x_1)'(x_1-x_1)} & \\cdots & \\mathbf{(x_n-x_1)'(x_n-x_1)}\\\\\n",
    "\\vdots  & \\ddots & \\vdots \\\\\n",
    "\\mathbf{(x_n-x_1)'(x_n-x_1)} & \\cdots & \\mathbf{(x_n-x_n)'(x_n-x_n)}\n",
    "\\end{array} \\right] \\\\\n",
    "& = \\left[ \\begin{array}{ccccc}\n",
    "\\mathbf{x_1'x_1+x_1'x_1-2x_1'x_1} & \\cdots & \\mathbf{x_1'x_1+x_n'x_n-2x_1'x_n}\\\\\n",
    "\\vdots  & \\ddots & \\vdots \\\\\n",
    "\\mathbf{x_n'x_n+x_1'x_1-2x_n'x_1} & \\cdots & \\mathbf{x_n'x_n+x_n'x_n-2x_n'x_n}\n",
    "\\end{array} \\right] \\\\\n",
    "& = \\left[ \\begin{array}{ccccc}\n",
    "\\mathbf{x_1'x_1} & \\cdots & \\mathbf{x_1'x_1}\\\\\n",
    "\\vdots  & \\ddots & \\vdots \\\\\n",
    "\\mathbf{x_n'x_n} & \\cdots & \\mathbf{x_n'x_n}\n",
    "\\end{array} \\right] + \n",
    "\\left[ \\begin{array}{ccccc}\n",
    "\\mathbf{x_1'x_1} & \\cdots & \\mathbf{x_n'x_n}\\\\\n",
    "\\vdots  & \\ddots & \\vdots \\\\\n",
    "\\mathbf{x_1'x_1} & \\cdots & \\mathbf{x_n'x_n}\n",
    "\\end{array} \\right] -2 \n",
    "\\left[ \\begin{array}{ccccc}\n",
    "\\mathbf{x_1'x_1} & \\cdots & \\mathbf{x_1'x_n}\\\\\n",
    "\\vdots  & \\ddots & \\vdots \\\\\n",
    "\\mathbf{x_n'x_1} & \\cdots & \\mathbf{x_n'x_n}\n",
    "\\end{array} \\right]  \\\\\n",
    "& = \\left[ \\begin{array}{ccccc}\n",
    "\\mathbf{x_1'x_1} \\\\\n",
    "\\vdots \\\\\n",
    "\\mathbf{x_n'x_n}\n",
    "\\end{array} \\right]\\left[1 \\cdots 1\\right] + \n",
    "\\left[ \\begin{array}{ccccc}\n",
    "1\\\\ \\vdots \\\\ 1 \\end{array} \\right]\n",
    "\\left[\\mathbf{x_1'x_1}  \\cdots \\mathbf{x_n'x_n}  \\right] -2 \n",
    "\\left[ \\begin{array}{ccccc}\n",
    "x_{11} & \\cdots & x_{1p}\\\\\n",
    "\\vdots  & \\ddots & \\vdots \\\\\n",
    "x_{n1} & \\cdots & x_{np}\n",
    "\\end{array} \\right]\n",
    "\\left[ \\begin{array}{ccccc}\n",
    "x_{11} & \\cdots & x_{n1}\\\\\n",
    "\\vdots  & \\ddots & \\vdots \\\\\n",
    "x_{1p} & \\cdots & x_{np}\n",
    "\\end{array} \\right] \\\\\n",
    "\\Delta^{(2)} & = diag(\\mathbf{XX'})(\\mathbf{1_{n \\times 1}})'+ \\mathbf{1_{n \\times 1}} diag(\\mathbf{XX'})' -2 \\mathbf{XX'} \\\\ \\\\\n",
    "\\end{align*}\n",
    "$$\n",
    "\n",
    "Lets define de following matrixs:\n",
    "\n",
    "$$\n",
    "\\mathbf{A} = -\\frac{1}{2} \\Delta^{(2)} \\\\\n",
    "\\mathbf{B} = (b_{ij}) = a_{ij}-a_{i.}-a_{.j}+a_{..}\n",
    "$$\n",
    "\n",
    "where $a_{i.} = \\sum_{j=1}^n\\frac{a_{ij}}{n} \\quad a_{.j} = \\sum_{i=1}^n\\frac{a_{ij}}{n} \\quad a_{..} =\\sum_{i,j}^n\\frac{a_{ij}}{n^2}$, where the matrix B can be writen as: $\\mathbf{B=HAH}$\n",
    "\n",
    "The distance matrix $\\Delta$ its a matrix of euclidean distances if and only if $\\mathbf{B} \\geq 0$, i.e. the eigenvalues of $\\mathbf{B}$ are non negatives.\n",
    "\n",
    "**proof**: The distance matrix $\\Delta$ its a matrix of euclidean distances $\\implies \\mathbf{B} \\geq 0$\n",
    "\n",
    "$$\n",
    "\\begin{align*}\n",
    "\\mathbf{A}&=-\\frac{1}{2}\\mathbf{\\left[diag(\\mathbf{XX'})(\\mathbf{1_{n \\times 1}})'+ \\mathbf{1_{n \\times 1}}diag(\\mathbf{XX'})'\\right]+XX'}\\\\\n",
    "\\mathbf{HAH}&=\\mathbf{H}\\left[-\\frac{1}{2}\\mathbf{\\left[diag(\\mathbf{XX'})(\\mathbf{1_{n \\times 1}})'+ \\mathbf{1_{n \\times 1}}diag(\\mathbf{XX'})'\\right]+XX'}\\right]\\mathbf{H}\\\\\n",
    "\\mathbf{B}&=-\\frac{1}{2}\\mathbf{\\left[Hdiag(\\mathbf{XX'})(\\mathbf{1_{n \\times 1}})'\\mathbf{H}+\\mathbf{H}\\mathbf{1_{n \\times 1}}diag(\\mathbf{XX'})'\\mathbf{H}\\right]+\\mathbf{H}XX'\\mathbf{H}}\\\\\n",
    "\\mathbf{B}&=-\\frac{1}{2}\\mathbf{\\left[Hdiag(\\mathbf{XX'})\\mathbf{0_{n \\times n}}+\\mathbf{0_{n \\times n}}diag(\\mathbf{XX'})'\\mathbf{H}\\right]+\\mathbf{H}XX'\\mathbf{H}}\\\\\n",
    "\\mathbf{B}&=\\mathbf{HXX'H}\\\\\n",
    "\\mathbf{B}&= n \\mathbf{S} \\geq 0 \\\\\n",
    "\\end{align*}\n",
    "$$\n",
    "\n",
    "**Observation: **\n",
    "Since $\\mathbf{A=XX'}$ then $b_{ii}=0-a_{i.}-a_{.i}+a_{..}$ and $b_{jj}=0-a_{j.}-a_{.j}+a_{..}$ then $\\delta_{ij}=b_{ii}+b_{jj}-2b_{ij}=a_{ii}+a_{jj}-2a_{ij}$\n",
    "\n",
    "**proof**: $\\mathbf{B} \\geq 0 \\implies $ the distance matrix $\\Delta$ its a matrix of euclidean distances.\n",
    "\n",
    "Since $\\mathbf{B} \\geq 0 \\implies $ then $\\mathbf{B=YY'}$ for some matrix $\\mathbf{Y_{n \\times p}}$ so $b_{ij}=\\mathbf{y_i'y_i}$ where $\\mathbf{y_i'}$ its the ith row $\\mathbf{Y}$, and using the last obervation:\n",
    "\n",
    "$\\delta_{ij}^2=\\mathbf{y_i'y_i}+\\mathbf{y_j'y_j}-2\\mathbf{y_i'y_j}=\\mathbf{(y_i-y_j)'(y_i-y_j)}$\n",
    "\n",
    "Then $\\Delta$ its a matrix of euclidean distances.\n",
    "\n",
    "### Principal coordinates\n",
    "___\n",
    "\n",
    "Due to $\\mathbf{B}$ its semipositive definite matrix it allows a spectral decomposition into a coordinates compatibles with the distance matrix.\n",
    "\n",
    "$$\n",
    "\\begin{align*}\n",
    "\\mathbf{B} &= \\mathbf{\\Gamma \\Lambda \\Gamma'}\\\\\n",
    "\\mathbf{B} &= \\mathbf{\\Gamma \\Lambda^{\\frac{1}{2}} \\Lambda^{\\frac{1}{2}} \\Gamma'} \\\\\n",
    "\\mathbf{B} &= \\mathbf{\\Gamma \\Lambda^{\\frac{1}{2}} (\\Gamma \\Lambda^{\\frac{1}{2}})'} \\\\\n",
    "\\mathbf{B} &=\n",
    "\\left[ \\begin{array}{ccccc}\n",
    "\\sqrt{\\lambda_1} \\mathbf{\\gamma_1} \\\\\n",
    "\\vdots  \\\\\n",
    "\\sqrt{\\lambda_n} \\mathbf{\\gamma_n}\\end{array} \\right]\n",
    "\\left[\\sqrt{\\lambda_1} \\mathbf{\\gamma_1} \\dots \\sqrt{\\lambda_n} \\mathbf{\\gamma_n} \\right]\\\\\n",
    "\\mathbf{B} &= \\mathbf{X X'}\\\\\n",
    "\\mathbf{X}&=\n",
    "\\left[ \\begin{array}{ccccc}\n",
    "\\sqrt{\\lambda_1} \\gamma_{11} & \\cdots & \\sqrt{\\lambda_1} \\gamma_{n1}\\\\\n",
    "\\vdots  & \\ddots & \\vdots \\\\\n",
    "\\sqrt{\\lambda_1} \\gamma_{1n} & \\cdots & \\sqrt{\\lambda_1} \\gamma_{nn} \n",
    "\\end{array} \\right]  \\\\\n",
    "\\end{align*}\n",
    "$$\n",
    "\n",
    "**Properties**:\n",
    "\n",
    "* The rows $\\mathbf{x_i,x_j}$ of $\\mathbf{X}$ statisfy that $\\mathbf{\\Delta}=(d_{E}(\\mathbf{x_i,x_j}))_{j,i=1}^{n}$.\n",
    "\n",
    "* Since n will typically be too large to be of practical interest and we would prefer a smaller dimension k for plotting, we can use the first p eigenvalues and corresponding eigenvectors in to obtain n points whose interpoint distances are approximately equal to the corresponding similarity $d_{E}(\\mathbf{x_i,x_j}) \\approx \\delta_{ij}$.\n",
    "\n",
    "**Example**: Rectangle in $\\mathbb{R}^2$"
   ]
  },
  {
   "cell_type": "code",
   "execution_count": 1,
   "metadata": {
    "collapsed": true
   },
   "outputs": [],
   "source": [
    "run MvaUtils.py"
   ]
  },
  {
   "cell_type": "code",
   "execution_count": 2,
   "metadata": {
    "collapsed": true
   },
   "outputs": [],
   "source": [
    "%matplotlib inline\n",
    "import pandas as pd\n",
    "import matplotlib.pyplot as plt\n",
    "import pyspark.sql.functions as f\n",
    "from pyspark import SparkContext\n",
    "from pyspark.sql import SQLContext\n",
    "from pyspark.ml.feature import PCA\n",
    "from pyspark.ml.linalg import Vectors\n",
    "from pyspark.sql.functions import array, udf, lit, col as c\n",
    "pd.set_option('max_colwidth',100)\n",
    "plt.style.use('seaborn-paper')"
   ]
  },
  {
   "cell_type": "code",
   "execution_count": 3,
   "metadata": {
    "collapsed": true
   },
   "outputs": [],
   "source": [
    "try:\n",
    "    sc = SparkContext('local[*]')\n",
    "except:\n",
    "    sc = SparkContext.getOrCreate('local[*]')\n",
    "sqlContext = SQLContext(sc)"
   ]
  },
  {
   "cell_type": "code",
   "execution_count": 4,
   "metadata": {
    "collapsed": true
   },
   "outputs": [],
   "source": [
    "def centerSquaredDistances(distanceMatrixDF,features,idCol):\n",
    "    meanRowUdf = udf(lambda vector: sum(vector)/len(vector))\n",
    "    meanExpressions = [f.mean(c(colName)).alias('mean'+colName) for colName in features]\n",
    "    \n",
    "    meanDF = distanceMatrixDF.select(meanExpressions)\n",
    "    totalMean = meanDF.rdd.map(lambda row: sum(row)).collect()[0]/(len(features))\n",
    "    \n",
    "    squaredExpressions = [(lit(-0.5)*(c(colName)*c(colName))).alias(colName)\\\n",
    "                          for colName in features]\n",
    "    \n",
    "    centeringExpressions = [(c(colName)-c('mean'+colName)-c('rowAverage')+lit(totalMean))\\\n",
    "                            .alias(colName) for colName in features]\n",
    "    \n",
    "    return distanceMatrixDF\\\n",
    "                       .select([idCol]+squaredExpressions)\\\n",
    "                       .withColumn('rowAverage',meanRowUdf(array([c(colName)\\\n",
    "                                   for colName in features])))\\\n",
    "                       .crossJoin(f.broadcast(meanDF)).select([idCol]+centeringExpressions)\\\n",
    "                       .select(idCol,array([c(colName) for colName in features])).rdd\\\n",
    "                       .map(lambda row: (row[0],Vectors.dense(row[1])))\\\n",
    "                       .toDF([idCol,'features'])\n",
    "                        \n",
    "def getCatesianCoords(centeredDistancesDF,pcaModel,pcaCol,p):\n",
    "    return pcaModel.transform(centeredDistancesDF)\\\n",
    "                   .select([idCol,pcaCol]).rdd\\\n",
    "                   .map(lambda row: [row[0]]+[float(value) for value in row[1]])\\\n",
    "                   .toDF([idCol]+['x'+str(i+1) for i in range(0,p)])"
   ]
  },
  {
   "cell_type": "markdown",
   "metadata": {},
   "source": [
    "Consider the dataset $\\{(1,1),(-1,1),(-1,-1),(1,-1)\\}$ of points in $\\mathbb{R}^2$\n",
    "\n",
    "<img src='static/rectangle.png' width=\"25%\" height=\"25%\" />\n",
    "\n",
    "This dataset has asociated the following distance matrix $\\Delta$\n",
    "\n",
    "$$\n",
    "\\Delta = \n",
    "\\left[ \\begin{array}{ccccc}\n",
    "0 & 2 & 2\\sqrt{2} & 2 \\\\\n",
    "2 & 0 & 2 & 2\\sqrt{2} \\\\\n",
    "2\\sqrt{2} & 2 & 0 & 2 \\\\\n",
    "2 & 2\\sqrt{2} & 2 & 0 \\end{array} \\right]\n",
    "$$"
   ]
  },
  {
   "cell_type": "code",
   "execution_count": 5,
   "metadata": {},
   "outputs": [
    {
     "data": {
      "text/html": [
       "<div>\n",
       "<table border=\"1\" class=\"dataframe\">\n",
       "  <thead>\n",
       "    <tr style=\"text-align: right;\">\n",
       "      <th></th>\n",
       "      <th>id</th>\n",
       "      <th>1</th>\n",
       "      <th>2</th>\n",
       "      <th>3</th>\n",
       "      <th>4</th>\n",
       "    </tr>\n",
       "  </thead>\n",
       "  <tbody>\n",
       "    <tr>\n",
       "      <th>0</th>\n",
       "      <td>1</td>\n",
       "      <td>0.000000</td>\n",
       "      <td>2.000000</td>\n",
       "      <td>2.828427</td>\n",
       "      <td>2.000000</td>\n",
       "    </tr>\n",
       "    <tr>\n",
       "      <th>1</th>\n",
       "      <td>2</td>\n",
       "      <td>2.000000</td>\n",
       "      <td>0.000000</td>\n",
       "      <td>2.000000</td>\n",
       "      <td>2.828427</td>\n",
       "    </tr>\n",
       "    <tr>\n",
       "      <th>2</th>\n",
       "      <td>3</td>\n",
       "      <td>2.828427</td>\n",
       "      <td>2.000000</td>\n",
       "      <td>0.000000</td>\n",
       "      <td>2.000000</td>\n",
       "    </tr>\n",
       "    <tr>\n",
       "      <th>3</th>\n",
       "      <td>4</td>\n",
       "      <td>2.000000</td>\n",
       "      <td>2.828427</td>\n",
       "      <td>2.000000</td>\n",
       "      <td>0.000000</td>\n",
       "    </tr>\n",
       "  </tbody>\n",
       "</table>\n",
       "</div>"
      ],
      "text/plain": [
       "  id         1         2         3         4\n",
       "0  1  0.000000  2.000000  2.828427  2.000000\n",
       "1  2  2.000000  0.000000  2.000000  2.828427\n",
       "2  3  2.828427  2.000000  0.000000  2.000000\n",
       "3  4  2.000000  2.828427  2.000000  0.000000"
      ]
     },
     "execution_count": 5,
     "metadata": {},
     "output_type": "execute_result"
    }
   ],
   "source": [
    "import math\n",
    "_2_sqrt_2 = 2*math.sqrt(2)\n",
    "idCol = 'id'\n",
    "features = ['1','2','3','4']\n",
    "rectangleDistances = pd.DataFrame([['1',0,2,_2_sqrt_2,2],['2',2,0,2,_2_sqrt_2],\\\n",
    "                                   ['3',_2_sqrt_2,2,0,2],['4',2,_2_sqrt_2,2,0]],\\\n",
    "                                   columns=['id']+features)\n",
    "distanceMatrixDF = sqlContext.createDataFrame(rectangleDistances)\n",
    "distanceMatrixDF.toPandas()"
   ]
  },
  {
   "cell_type": "code",
   "execution_count": 6,
   "metadata": {
    "collapsed": true
   },
   "outputs": [],
   "source": [
    "p=2\n",
    "centeredDistancesDF = centerSquaredDistances(distanceMatrixDF,features,idCol)"
   ]
  },
  {
   "cell_type": "code",
   "execution_count": 7,
   "metadata": {},
   "outputs": [
    {
     "data": {
      "text/html": [
       "<div>\n",
       "<table border=\"1\" class=\"dataframe\">\n",
       "  <thead>\n",
       "    <tr style=\"text-align: right;\">\n",
       "      <th></th>\n",
       "      <th>id</th>\n",
       "      <th>x1</th>\n",
       "      <th>x2</th>\n",
       "    </tr>\n",
       "  </thead>\n",
       "  <tbody>\n",
       "    <tr>\n",
       "      <th>0</th>\n",
       "      <td>1</td>\n",
       "      <td>-2.828427e+00</td>\n",
       "      <td>-3.486306e-32</td>\n",
       "    </tr>\n",
       "    <tr>\n",
       "      <th>1</th>\n",
       "      <td>2</td>\n",
       "      <td>3.486306e-32</td>\n",
       "      <td>-2.828427e+00</td>\n",
       "    </tr>\n",
       "    <tr>\n",
       "      <th>2</th>\n",
       "      <td>3</td>\n",
       "      <td>2.828427e+00</td>\n",
       "      <td>3.486306e-32</td>\n",
       "    </tr>\n",
       "    <tr>\n",
       "      <th>3</th>\n",
       "      <td>4</td>\n",
       "      <td>-3.486306e-32</td>\n",
       "      <td>2.828427e+00</td>\n",
       "    </tr>\n",
       "  </tbody>\n",
       "</table>\n",
       "</div>"
      ],
      "text/plain": [
       "  id            x1            x2\n",
       "0  1 -2.828427e+00 -3.486306e-32\n",
       "1  2  3.486306e-32 -2.828427e+00\n",
       "2  3  2.828427e+00  3.486306e-32\n",
       "3  4 -3.486306e-32  2.828427e+00"
      ]
     },
     "execution_count": 7,
     "metadata": {},
     "output_type": "execute_result"
    }
   ],
   "source": [
    "pcaModel = PCA(k=p,inputCol=\"features\",outputCol=\"transformationPCA\")\\\n",
    "          .fit(centeredDistancesDF)\n",
    "mapDF = getCatesianCoords(centeredDistancesDF,pcaModel,'transformationPCA',p)\n",
    "mapDF.toPandas()"
   ]
  },
  {
   "cell_type": "code",
   "execution_count": 8,
   "metadata": {},
   "outputs": [
    {
     "data": {
      "text/plain": [
       "<module 'matplotlib.pyplot' from '/opt/conda/lib/python3.6/site-packages/matplotlib/pyplot.py'>"
      ]
     },
     "execution_count": 8,
     "metadata": {},
     "output_type": "execute_result"
    },
    {
     "data": {
      "image/png": "[encoded data removed]",
      "text/plain": [
       "<matplotlib.figure.Figure at 0x7f71649e6f28>"
      ]
     },
     "metadata": {},
     "output_type": "display_data"
    }
   ],
   "source": [
    "col_1,col_2='x1','x2'\n",
    "plt.figure(figsize=(5,5))\n",
    "scatterPlot(plt,mapDF,col_1,col_2,'Blue')"
   ]
  },
  {
   "cell_type": "markdown",
   "metadata": {},
   "source": [
    "Note also that the solution Z is not unique, since a shift in origin or a rotation will not change the distances $d_{ij}$ For example, if $\\mathbf{T}$ is a $n \\times n$ orthogonal matrix, then\n",
    "\n",
    "$$(\\mathbf{Tx}_i−\\mathbf{Tx}_j)′(\\mathbf{Tx}_i-\\mathbf{Tx}_j)=(\\mathbf{x_i−x_j})′\\mathbf{T'T}(\\mathbf{x_i−x_j})=(\\mathbf{x_i−x_j})′(\\mathbf{x_i−x_j})$$\n",
    "\n",
    "Thus the rotated points $\\mathbf{T}x_i$ and $\\mathbf{T}x_j$ have the same interpoint distances $d_{ij}$.\n",
    "\n",
    "**Example**: The distance between 128 USA cities.\n",
    "\n",
    "https://people.sc.fsu.edu/~jburkardt/datasets/cities/cities.html"
   ]
  },
  {
   "cell_type": "code",
   "execution_count": 9,
   "metadata": {
    "collapsed": true
   },
   "outputs": [],
   "source": [
    "idCol = 'City'\n",
    "citiesPath = 'DataSets/DistancesBetweenCities.csv'\n",
    "\n",
    "distanceMatrixDF = sqlContext.createDataFrame(pd.read_csv(citiesPath))\n",
    "features = [colName for colName in distanceMatrixDF.columns if colName not in [idCol]]"
   ]
  },
  {
   "cell_type": "code",
   "execution_count": 10,
   "metadata": {},
   "outputs": [
    {
     "data": {
      "text/html": [
       "<div>\n",
       "<table border=\"1\" class=\"dataframe\">\n",
       "  <thead>\n",
       "    <tr style=\"text-align: right;\">\n",
       "      <th></th>\n",
       "      <th>City</th>\n",
       "      <th>Youngstown</th>\n",
       "      <th>Yankton</th>\n",
       "      <th>Yakima</th>\n",
       "      <th>Worcester</th>\n",
       "      <th>WisconsinDells</th>\n",
       "      <th>Winston-Salem</th>\n",
       "      <th>Winnipeg</th>\n",
       "      <th>Winchester</th>\n",
       "    </tr>\n",
       "  </thead>\n",
       "  <tbody>\n",
       "    <tr>\n",
       "      <th>0</th>\n",
       "      <td>Youngstown</td>\n",
       "      <td>0.000</td>\n",
       "      <td>0.966</td>\n",
       "      <td>1.513</td>\n",
       "      <td>2.964</td>\n",
       "      <td>1.149</td>\n",
       "      <td>0.927</td>\n",
       "      <td>1.611</td>\n",
       "      <td>1.510</td>\n",
       "    </tr>\n",
       "    <tr>\n",
       "      <th>1</th>\n",
       "      <td>Yankton</td>\n",
       "      <td>0.966</td>\n",
       "      <td>0.000</td>\n",
       "      <td>2.410</td>\n",
       "      <td>1.520</td>\n",
       "      <td>1.817</td>\n",
       "      <td>0.729</td>\n",
       "      <td>0.686</td>\n",
       "      <td>0.290</td>\n",
       "    </tr>\n",
       "    <tr>\n",
       "      <th>2</th>\n",
       "      <td>Yakima</td>\n",
       "      <td>1.513</td>\n",
       "      <td>2.410</td>\n",
       "      <td>0.000</td>\n",
       "      <td>0.604</td>\n",
       "      <td>0.481</td>\n",
       "      <td>2.742</td>\n",
       "      <td>1.833</td>\n",
       "      <td>0.826</td>\n",
       "    </tr>\n",
       "    <tr>\n",
       "      <th>3</th>\n",
       "      <td>Worcester</td>\n",
       "      <td>2.964</td>\n",
       "      <td>1.520</td>\n",
       "      <td>0.604</td>\n",
       "      <td>0.000</td>\n",
       "      <td>0.595</td>\n",
       "      <td>1.289</td>\n",
       "      <td>1.446</td>\n",
       "      <td>0.466</td>\n",
       "    </tr>\n",
       "    <tr>\n",
       "      <th>4</th>\n",
       "      <td>WisconsinDells</td>\n",
       "      <td>1.149</td>\n",
       "      <td>1.817</td>\n",
       "      <td>0.481</td>\n",
       "      <td>0.595</td>\n",
       "      <td>0.000</td>\n",
       "      <td>0.494</td>\n",
       "      <td>0.550</td>\n",
       "      <td>2.641</td>\n",
       "    </tr>\n",
       "    <tr>\n",
       "      <th>5</th>\n",
       "      <td>Winston-Salem</td>\n",
       "      <td>0.927</td>\n",
       "      <td>0.729</td>\n",
       "      <td>2.742</td>\n",
       "      <td>1.289</td>\n",
       "      <td>0.494</td>\n",
       "      <td>0.000</td>\n",
       "      <td>1.279</td>\n",
       "      <td>1.197</td>\n",
       "    </tr>\n",
       "    <tr>\n",
       "      <th>6</th>\n",
       "      <td>Winnipeg</td>\n",
       "      <td>1.611</td>\n",
       "      <td>0.686</td>\n",
       "      <td>1.833</td>\n",
       "      <td>1.446</td>\n",
       "      <td>0.550</td>\n",
       "      <td>1.279</td>\n",
       "      <td>0.000</td>\n",
       "      <td>0.250</td>\n",
       "    </tr>\n",
       "    <tr>\n",
       "      <th>7</th>\n",
       "      <td>Winchester</td>\n",
       "      <td>1.510</td>\n",
       "      <td>0.290</td>\n",
       "      <td>0.826</td>\n",
       "      <td>0.466</td>\n",
       "      <td>2.641</td>\n",
       "      <td>1.197</td>\n",
       "      <td>0.250</td>\n",
       "      <td>0.000</td>\n",
       "    </tr>\n",
       "  </tbody>\n",
       "</table>\n",
       "</div>"
      ],
      "text/plain": [
       "             City  Youngstown  Yankton  Yakima  Worcester  WisconsinDells  \\\n",
       "0      Youngstown       0.000    0.966   1.513      2.964           1.149   \n",
       "1         Yankton       0.966    0.000   2.410      1.520           1.817   \n",
       "2          Yakima       1.513    2.410   0.000      0.604           0.481   \n",
       "3       Worcester       2.964    1.520   0.604      0.000           0.595   \n",
       "4  WisconsinDells       1.149    1.817   0.481      0.595           0.000   \n",
       "5   Winston-Salem       0.927    0.729   2.742      1.289           0.494   \n",
       "6        Winnipeg       1.611    0.686   1.833      1.446           0.550   \n",
       "7      Winchester       1.510    0.290   0.826      0.466           2.641   \n",
       "\n",
       "   Winston-Salem  Winnipeg  Winchester  \n",
       "0          0.927     1.611       1.510  \n",
       "1          0.729     0.686       0.290  \n",
       "2          2.742     1.833       0.826  \n",
       "3          1.289     1.446       0.466  \n",
       "4          0.494     0.550       2.641  \n",
       "5          0.000     1.279       1.197  \n",
       "6          1.279     0.000       0.250  \n",
       "7          1.197     0.250       0.000  "
      ]
     },
     "execution_count": 10,
     "metadata": {},
     "output_type": "execute_result"
    }
   ],
   "source": [
    "scalingExpressions = [(c(colName)/lit(1000)).alias(colName) for colName in features]\n",
    "distanceMatrixDF = distanceMatrixDF.select(['City']+scalingExpressions)\n",
    "distanceMatrixDF.limit(8).toPandas().ix[:,:'Winchester']"
   ]
  },
  {
   "cell_type": "code",
   "execution_count": 11,
   "metadata": {
    "collapsed": true
   },
   "outputs": [],
   "source": [
    "p=2\n",
    "centeredDistancesDF = centerSquaredDistances(distanceMatrixDF,features,idCol)\n",
    "pcaModel = PCA(k=p,inputCol=\"features\",outputCol=\"transformationPCA\")\\\n",
    "          .fit(centeredDistancesDF)"
   ]
  },
  {
   "cell_type": "code",
   "execution_count": 12,
   "metadata": {},
   "outputs": [
    {
     "data": {
      "text/plain": [
       "<module 'matplotlib.pyplot' from '/opt/conda/lib/python3.6/site-packages/matplotlib/pyplot.py'>"
      ]
     },
     "execution_count": 12,
     "metadata": {},
     "output_type": "execute_result"
    },
    {
     "data": {
      "image/png": "[encoded data removed]",
      "text/plain": [
       "<matplotlib.figure.Figure at 0x7f71986b3b38>"
      ]
     },
     "metadata": {},
     "output_type": "display_data"
    }
   ],
   "source": [
    "mapDF = getCatesianCoords(centeredDistancesDF,pcaModel,'transformationPCA',p)\n",
    "col_1,col_2='x1','x2'\n",
    "plt.figure(figsize=(10,10))\n",
    "scatterPlot(plt,mapDF,col_1,col_2,'Blue')"
   ]
  }
 ],
 "metadata": {
  "kernelspec": {
   "display_name": "Python 3",
   "language": "python",
   "name": "python3"
  },
  "language_info": {
   "codemirror_mode": {
    "name": "ipython",
    "version": 3
   },
   "file_extension": ".py",
   "mimetype": "text/x-python",
   "name": "python",
   "nbconvert_exporter": "python",
   "pygments_lexer": "ipython3",
   "version": "3.6.2"
  }
 },
 "nbformat": 4,
 "nbformat_minor": 2
}
