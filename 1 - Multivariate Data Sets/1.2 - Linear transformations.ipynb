{
 "cells": [
  {
   "cell_type": "markdown",
   "metadata": {},
   "source": [
    "# Linear transformations\n",
    "\n",
    "---\n",
    "> Erick Eduardo Aguilar Hernández:\n",
    "> * mat.ErickAguilar@gmail.com.mx\n",
    "> * isc.ErickAguilar@gmail.com\n",
    "\n",
    "---\n",
    "\n",
    "Let $V$, $W$ be a vector spaces over $\\mathbb{R}$  with $dim(V)=p$, $dim(W)=m$. Let $T: V \\subset \\mathbb{R}^p$ $\\rightarrow$ $W \\subset \\mathbb{R}^m$ be a linear transformation. Then there exists a unique $p \\times m$ matrix $\\mathbf{A}$ such that $T\\left[v\\right]=A\\left[v\\right]$ for every $v \\in V$. \n",
    "\n",
    "In some types of analysis a linear transformation of the data matrix it's required, so that each observation should be transformed to another vector space, note that each row could be interpreted as a vector in $\\mathbb{R}^p$, so the matrix expression asociated to the linear transformation must be expressed as:\n",
    "\n",
    "$$\n",
    "\\begin{align*} \n",
    "\\mathbf{Y}_{m\\times n}  & = \\mathbf{A}_{m\\times p}[\\mathbf{X}]'_{p\\times n}  \\\\\n",
    "\\mathbf{Y'}_{n\\times m} & = \\mathbf{X}_{n\\times p}[\\mathbf{A}]'_{p\\times m} \\\\\n",
    "\\mathbf{Z}_{n\\times m}  & = \\mathbf{X}_{n\\times p}[\\mathbf{B}]_{p\\times m} \\\\\n",
    "\\end{align*}\n",
    "$$\n",
    "  \n",
    "  \n",
    "   \n",
    "$$\n",
    "\\left[ \\begin{array}{ccccc}\n",
    "z_{1 1} & \\cdots & z_{1 m} \\\\\n",
    "\\vdots  & \\ddots & \\vdots \\\\\n",
    "z_{i 1} & \\cdots & z_{i m} \\\\\n",
    "\\vdots  & \\ddots & \\vdots \\\\\n",
    "z_{n 1} & \\cdots & z_{n m} \\end{array} \\right]\n",
    "= \\left[ \\begin{array}{ccccc}\n",
    "x_{1 1} & \\cdots & x_{1 j} & \\cdots & x_{1 p} \\\\\n",
    "\\vdots  & \\ddots & \\vdots  & \\ddots & \\vdots \\\\\n",
    "x_{i 1} & \\cdots & x_{i j} & \\cdots & x_{i p} \\\\\n",
    "\\vdots  & \\ddots & \\vdots  & \\ddots & \\vdots \\\\\n",
    "x_{n 1} & \\cdots & x_{n j} & \\cdots & x_{n p} \\end{array} \\right]\n",
    "\\left[ \\begin{array}{ccccc}\n",
    "b_{1 1} & \\cdots & b_{1 m} \\\\\n",
    "\\vdots  & \\ddots & \\vdots \\\\\n",
    "b_{j 1} & \\cdots & b_{i m} \\\\\n",
    "\\vdots  & \\ddots & \\vdots \\\\\n",
    "b_{p 1} & \\cdots & b_{p m} \\end{array} \\right]\n",
    "$$\n",
    "\n",
    "In terms of linear combinations:\n",
    "\n",
    "$$\n",
    "\\begin{align*}\n",
    "z_{1 k}   & = b_{1 k} x_{1 1} + \\cdots b_{j k} x_{1 j} + \\cdots + b_{p k} x_{1 p}   \\\\\n",
    "\\vdots    & = \\vdots \\\\\n",
    "z_{n k}   & = b_{1 k} x_{1 1} + \\cdots b_{j k} x_{1 j} + \\cdots + b_{p k} x_{1 p} \\\\\n",
    "\\end{align*}\n",
    "$$"
   ]
  },
  {
   "cell_type": "code",
   "execution_count": null,
   "metadata": {
    "collapsed": true
   },
   "outputs": [],
   "source": []
  }
 ],
 "metadata": {
  "kernelspec": {
   "display_name": "Python 3",
   "language": "python",
   "name": "python3"
  },
  "language_info": {
   "codemirror_mode": {
    "name": "ipython",
    "version": 3
   },
   "file_extension": ".py",
   "mimetype": "text/x-python",
   "name": "python",
   "nbconvert_exporter": "python",
   "pygments_lexer": "ipython3",
   "version": "3.5.2"
  }
 },
 "nbformat": 4,
 "nbformat_minor": 2
}
