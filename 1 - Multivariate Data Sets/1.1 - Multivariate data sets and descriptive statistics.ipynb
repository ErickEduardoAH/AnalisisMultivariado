{
 "cells": [
  {
   "cell_type": "markdown",
   "metadata": {},
   "source": [
    "# Multivariate Data Sets\n",
    "\n",
    "---\n",
    "> Erick Eduardo Aguilar Hernández:\n",
    "> * mat.ErickAguilar@gmail.com.mx\n",
    "> * isc.ErickAguilar@gmail.com\n",
    "\n",
    "---\n",
    "Multivariate analysis is the branch of statistics that generalizes methods of inferential statistics, so that a population $X$ can be characterized through a finite collection of random variables $X_i$. i.e multivariated distribution of random vectors. E.j. a species of animals can be characterized through quantitative and qualitative variables as they are high body, body width, weight, head high, head width, leg size, hair color, eye color, sex, etc. this variables are called explicatives.\n",
    "\n",
    "$$ \\vec{X} = (X_1,X_2,...,X_p) $$\n",
    "\n",
    "As in classical inferential statistics, multivariate analysis the main idea is to generalize patterns or obtain useful conclusions from a multivariate population based on the information of the sample however in this case the information is multidimensional.\n",
    "\n",
    "#### Statistical learning and machine learning\n",
    "\n",
    "There are often situations in which it is necessary to make inferences about the future behavior of one or several variables in terms of random vectors, infer the population type of a random vector since there are several populations that share the same explicative variables but with different distribution, or find boundaries and structures of clustering since there are different types of mixed populations of which the membership of the vectors is not known. \n",
    "\n",
    "For these situations and some more, exist results based on multivariate analysis that provides methods for a non-exactly teoric solution to the problem, this is called **statistical learning**. In addition to this, a computational approach is added considering algorithms, complexity, expenditure, data structures, etc. then the set of these techniques known as **machine learning**.\n",
    "\n",
    "\n",
    "#### Data matrix\n",
    "\n",
    "Supose that you have n obervations of the random vector $\\vec{X}$ (the distribution of the population), such that each vector have p explicative variables. Then set of observations $\\{\\vec{X}_i\\}_{i=0}^n=\\{(X_1,...,X_p)_i\\}_{i=0}^n$ can be represented as a matrix called data matrix $\\textbf{X}_{n \\times p}$, the rows of this matrix represent de index of the observation and each column represent one of the explicative variables.\n",
    "\n",
    "$$\\textbf{X}_{n \\times p}=\n",
    "\\left( \\begin{array}{ccccc}\n",
    "x_{1 1} & \\cdots & x_{1 j} & \\cdots & x_{1 p} \\\\\n",
    "\\vdots  & \\ddots & \\vdots  & \\ddots & \\vdots \\\\\n",
    "x_{i 1} & \\cdots & x_{i j} & \\cdots & x_{i p} \\\\\n",
    "\\vdots  & \\ddots & \\vdots  & \\ddots & \\vdots \\\\\n",
    "x_{n 1} & \\cdots & x_{n j} & \\cdots & x_{n p} \\end{array} \\right)\n",
    "$$\n",
    "\n",
    "**Notation:**\n",
    "* $\\textbf{x}_i$ Indicates the i-th row of $\\textbf{X}$, however it will operated as a column.\n",
    "* $X_j$ Indicates the j-th column of $\\textbf{X}$\n",
    "\n",
    "**Example 1.1 - 1 [Iris plants]**: The following datset contains samples of 3 iris plants populations of 50, obervations each one. The 3 populations that share the same explicative variables:\n",
    "1. Sepal length in cm\n",
    "2. Sepal width in cm\n",
    "3. Petal length in cm\n",
    "4. Petal width in cm\n",
    "5. Species: \n",
    "      - Iris Setosa\n",
    "      - Iris Versicolour\n",
    "      - Iris Virginica\n",
    "\n",
    "URL of the dataset.\n",
    "https://archive.ics.uci.edu/ml/datasets/iris"
   ]
  },
  {
   "cell_type": "code",
   "execution_count": null,
   "metadata": {},
   "outputs": [],
   "source": [
    "from pyspark import SparkContext\n",
    "from pyspark.sql import SQLContext\n",
    "from pyspark.sql import Column as C\n",
    "\n",
    "try:\n",
    "    sc = SparkContext('local[*]')\n",
    "except:\n",
    "    sc = SparkContext.getOrCreate('local[*]')\n",
    "sqlContext = SQLContext(sc)"
   ]
  },
  {
   "cell_type": "code",
   "execution_count": null,
   "metadata": {},
   "outputs": [],
   "source": [
    "irisPath = '../DataSets/Iris.csv'\n",
    "lim = 4\n",
    "irisDF = sqlContext.read.format('com.databricks.spark.csv')\\\n",
    "                   .options(header='true',inferschema='true')\\\n",
    "                   .load(irisPath)\n",
    "irisSetosaDF = irisDF.where(irisDF.Species == 'Iris-setosa')\n",
    "irisVersicolorDF = irisDF.where(irisDF.Species == 'Iris-versicolor')\n",
    "irisVirginicaDF = irisDF.where(irisDF.Species == 'Iris-virginica')\n",
    "irisSetosaDF.limit(lim).union(irisVersicolorDF.limit(lim)).union(irisVirginicaDF.limit(lim)).toPandas()"
   ]
  },
  {
   "cell_type": "markdown",
   "metadata": {},
   "source": [
    "### Plotting Multivariate Data\n",
    "\n",
    "**Scatter plots matrix**: A scatter plot matrix arranges all possible two-way scatter plots in a q × q matrix. These displays can be enhanced with brushing, in which individual points or groups of points can be selected in one plot, and be simultaneously highlighted in the other plots.\n",
    "\n",
    "**Example 1.1 - 2 [Scatter plot matrix of iris plants]**"
   ]
  },
  {
   "cell_type": "code",
   "execution_count": null,
   "metadata": {},
   "outputs": [],
   "source": [
    "import seaborn as sns\n",
    "smp = sns.pairplot(irisDF.toPandas(),hue=\"Species\",diag_kind='hist')"
   ]
  },
  {
   "cell_type": "markdown",
   "metadata": {},
   "source": [
    "# Multivariate descriptive statistics\n",
    "---\n",
    "\n",
    "#### Mean vector\n",
    "\n",
    "For the j-th column of the data matrix the sample mean of the values $\\{x_{1j},...,x_{nj}\\}$ the sample mean is given by $\\bar{x_j}=\\frac{1}{n}\\sum_{i=0}^{n}x_{ij}$. If we assume that the sample is independent and identically distributed then the expected value $E[X_j]=\\mu_j=E[\\bar{x_j}]$ because $\\bar{x_j}$ it's the unviased estimator of $\\mu_j$. On the other hand we know of the multivariate distributions that if you have a random vector $\\vec{X}$ of dimension p, then its expected value is given by:\n",
    "\n",
    "$$\n",
    "\\begin{align}\n",
    "\\vec{\\mu} = E[\\vec{X}] & = (E[X_1],\\dotsc,E[X_j],\\dotsc,E[X_p]) \\\\\n",
    "& = (E[\\bar{x_1}],\\dotsc,E[\\bar{x_j}],\\dotsc,E[\\bar{x_j}]) \\\\\n",
    "& = E[(\\bar{x_1},\\dots,\\bar{x_j},\\dotsc,\\bar{x_p})]\\\\\n",
    "& = E\\left[\\left(\\frac{1}{n}\\sum_{i=0}^{n}x_{i1},\\dots,\\frac{1}{n}\\sum_{i=0}^{n}x_{ij},\\dotsc,\\frac{1}{n}\\sum_{i=0}^{n}x_{ip}\\right)\\right]\\\\\n",
    "& = E\\left[\\frac{1}{n} \\left(\\sum_{i=0}^{n}x_{i1},\\dots,\\sum_{i=0}^{n}x_{ij},\\dotsc,\\sum_{i=0}^{n}x_{ip}\\right)\\right]\\\\\n",
    "& = E\\left[\\frac{1}{n} \\sum_{i=0}^{n} \\left(x_{i1},\\dots,x_{ij},\\dotsc,x_{ip}\\right)\\right]\\\\\n",
    "\\vec{\\mu} & = E\\left[\\frac{1}{n} \\sum_{i=0}^{n} \\textbf{x}_i\\right]\\\\\n",
    "\\end{align}\n",
    "$$\n",
    "\n",
    "Which means that $\\frac{1}{n} \\sum_{i=0}^{n} \\textbf{x}_i$ denoted by $\\bar{\\textbf{x}}$ is the unbiased estimator for the expected value $\\vec{\\mu}$ of the random vector $\\vec{X}$ and is called the mean vector."
   ]
  },
  {
   "cell_type": "markdown",
   "metadata": {},
   "source": [
    "#### References:\n",
    "* \"Multivariate Statistics\", John I. Marden, Department of Statistics, University of Illinois at Urbana-Champaign.\n",
    "* \"Nuevos Métodos de Análisis Multivariante\", Carles M. Cuadras, c C. M. Cuadras, CMC Editions, Manacor 30, 08023 Barcelona, Spain.\n",
    "* \"Applied Multivariate Statistical Analysis\", PennState university, online course STAT 505, (https://onlinecourses.science.psu.edu/stat505/)"
   ]
  }
 ],
 "metadata": {
  "kernelspec": {
   "display_name": "Python 3",
   "language": "python",
   "name": "python3"
  },
  "language_info": {
   "codemirror_mode": {
    "name": "ipython",
    "version": 3
   },
   "file_extension": ".py",
   "mimetype": "text/x-python",
   "name": "python",
   "nbconvert_exporter": "python",
   "pygments_lexer": "ipython3",
   "version": "3.5.2"
  }
 },
 "nbformat": 4,
 "nbformat_minor": 2
}
