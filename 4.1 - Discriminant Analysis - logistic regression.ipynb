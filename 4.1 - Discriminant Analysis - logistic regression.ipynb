{
 "cells": [
  {
   "cell_type": "markdown",
   "metadata": {},
   "source": [
    "# 4.1 Logistic Regression\n",
    "\n",
    "---\n",
    "> Erick Eduardo Aguilar Hernández:\n",
    "> * mat.ErickAguilar@gmail.com.mx\n",
    "> * isc.ErickAguilar@gmail.com"
   ]
  },
  {
   "cell_type": "markdown",
   "metadata": {},
   "source": [
    "Consider two populations $\\Omega_1$, $\\Omega_2$ with their random vectors of features associated $\\mathbf{x_1},\\mathbf{x_2} \\in \\mathbb{R}^p$, a discriminant is a function $D:\\mathbb{R}^p \\rightarrow \\mathbb{R}$ such that if $D(\\mathbf{x}) \\geq t$ for some threshold $t \\in \\mathbb{R}$ then asign $\\mathbf{x}$ to $\\Omega_1$ otherwise $\\mathbf{x}$ to $\\Omega_2$. D its a linear discriminant if D gave the form:\n",
    "\n",
    "$$D(\\mathbf{x})=\\beta_0+\\beta_1 x_1 + \\dots \\beta_p x_p = \\beta_0+\\mathbf{x' \\beta}$$\n",
    "\n",
    "### Logistic Model\n",
    "___\n",
    "\n",
    "The increase in the probability of belonging to the population $\\Omega_1$ with respect to discriminant D is directly proportional to the probability of belonging to $\\Omega_1$ given D and decreases as it approach to 1. Where D its a linear combination of features and weights.\n",
    "\n",
    "$$ \\frac{dp}{dD} = p(1-p)$$\n",
    "\n",
    "Tha idea its try to solve this differential equation in order to put $p$ as function of the values of D.\n",
    "\n",
    "$$\n",
    "\\begin{align*}\n",
    "\\frac{dp}{dD} = p(1-p) \\\\\n",
    "\\frac{dp}{p(1-p)}=dD\\\\\n",
    "\\int \\frac{dp}{p(1-p)}=\\int dD\\\\\n",
    "\\int \\frac{dp}{p-p^2}= D \\\\\n",
    "\\end{align*}\n",
    "$$\n",
    "\n",
    "Note that the constant of the integral in the right side couuld be absorved by the intercepto of D, and the only problem its try to solve the left side integral. Using partial fractions:\n",
    "\n",
    "$$\n",
    "\\begin{align*}\n",
    "\\frac{1}{p(1-p)} &= \\frac{1}{p}+\\frac{1}{1-p} \\\\\n",
    "1 &= \\frac{A}{p}(p(1-p))+\\frac{B}{1-p}(p(1-p)) \\\\\n",
    "1 &= A(1-p)+Bp\\\\\n",
    "& \\left \\{ \\begin{matrix} - B &= -1\n",
    "\\\\ A+B &= 0 \\end{matrix}\\right.\\\\\n",
    "& A = 1, B = -1 \\\\\n",
    "\\implies \\frac{1}{p-p^2} &= \\frac{1}{p} - \\frac{1}{1-p} \\\\\n",
    "\\end{align*}\n",
    "$$\n",
    "\n",
    "Returning to the solution of the differential equation:\n",
    "\n",
    "$$\n",
    "\\begin{align*}\n",
    "\\int \\frac{dp}{p-p^2} &= D \\\\\n",
    "\\int \\frac{1}{p}dp - \\int \\frac{1}{1-p}dp &= D\\\\\n",
    "ln(p)-ln(1-p) &= D\\\\\n",
    "ln\\left(\\frac{p}{1-p}\\right) &= D  \\dots (1)\\\\\n",
    "\\frac{p}{1-p} &= e^D\\\\\n",
    "p &= (1-p) e^D\\\\\n",
    "p &= e^D-pe^D\\\\\n",
    "p + pe^D &= e^D\\\\\n",
    "p(1+e^D) &= e^D\\\\\n",
    "p &= \\frac{e^D}{1+e^D}\\\\\n",
    "p &= \\frac{1}{1+e^D}\\frac{1}{e^{-D}}\\\\\n",
    "p &= \\frac{1}{1+e^{-D}}\\\\\n",
    "p(\\mathbf{x}) &= \\frac{1}{1+e^{-(\\beta_0+\\mathbf{x' \\beta}})} ... (2)\\\\\n",
    "\\end{align*}\n",
    "$$\n",
    "\n",
    "From **equation (1)** the left side is know as **logit transformation**, and is a way to estimate a proportion to belong or nor to the objetive population. \n",
    "\n",
    "$$ ln\\left(\\frac{p(\\mathbf{x})}{1-p(\\mathbf{x})}\\right) = \\beta_0+\\beta_1 x_1 + \\dots \\beta_p x_p$$\n",
    "\n",
    "The transformation gives a bijection from the probability scale $[0,1]$ to the logit scale $[−\\infty,\\infty]$. **The equation (2)** gives the probability to belong to $\\Omega_1$ as function of the features of weights and the features of $\\Omega_1$. This equations its called the **logistic equation or sigmoid**. \n",
    "\n",
    "$$p(\\mathbf{x}) = \\frac{1}{1+e^{-(\\beta_0+\\beta_1 x_1 + \\dots \\beta_p x_p)}}$$"
   ]
  }
 ],
 "metadata": {
  "kernelspec": {
   "display_name": "Python 3",
   "language": "python",
   "name": "python3"
  },
  "language_info": {
   "codemirror_mode": {
    "name": "ipython",
    "version": 3
   },
   "file_extension": ".py",
   "mimetype": "text/x-python",
   "name": "python",
   "nbconvert_exporter": "python",
   "pygments_lexer": "ipython3",
   "version": "3.6.2"
  }
 },
 "nbformat": 4,
 "nbformat_minor": 2
}
