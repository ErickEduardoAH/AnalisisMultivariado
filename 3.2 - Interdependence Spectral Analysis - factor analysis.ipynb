{
 "cells": [
  {
   "cell_type": "markdown",
   "metadata": {},
   "source": [
    "# 3.2 Factor analysis\n",
    "\n",
    "---\n",
    "> Erick Eduardo Aguilar Hernández:\n",
    "> * mat.ErickAguilar@gmail.com.mx\n",
    "> * isc.ErickAguilar@gmail.com\n",
    "\n",
    "---"
   ]
  },
  {
   "cell_type": "markdown",
   "metadata": {},
   "source": [
    "Some timed is not possible to measure directly the concepts of primary interest however it is possible to observe its effect on observable variables. Factor analysis is a multivariate technique applied to a set of observed variables that seeks to find underlying factors (subsets of variables) from which the observed variables were generated. Factor analysis is carried out on the correlation matrix of the observed variables. A factor is a weighted average of\n",
    "the original variables. The factor analyst hopes to find a few factors from which the original correlation matrix\n",
    "may be generated.\n",
    "\n",
    "The basis of factor analysis is a regression model linking the manifest variables to a set of unobserved (and unobservable) latent variables. In essence the model assumes that the observed relationships between the manifest variables (as measured by their covariances or correlations) are a result of the relationships of these variables to the latent variables. (Since it is the covariances or correlations of the manifest variables that are central to factor analysis, we can, **in the description of the mathematics of the method given below, assume that the manifest variables all have zero mean**.\n",
    "\n",
    "Lets the **observable random vector** $\\mathbf{x} \\in \\mathbb{R^p}$ the factor model postulates that $\\mathbf{x}$ is linearly dependent upon a few unobervable random variables $F_1,\\dots,F_m$ called common factors, and p adition sources of deviation $\\varepsilon_1,\\dots,\\varepsilon_p$ called specific factors, this specific factors is asociated with only one , this model can be expressed as equation system.\n",
    "\n",
    "$$\n",
    "\\begin{align*}\n",
    "X_1 &= \\ell_{11} F_1 + \\ell_{12} F_2 +\\dots + \\ell_{1m} F_m+\\varepsilon_1\\\\\n",
    "\\vdots &= \\vdots \\\\\n",
    "X_p &= \\ell_{p1} F_1 + \\ell_{p2} F_2 +\\dots + \\ell_{pm} F_m+\\varepsilon_p\\\\\n",
    "\\\\\n",
    "\\left[ \\begin{array}{ccccc}\n",
    "X_{1} \\\\\n",
    "\\vdots  \\\\\n",
    "X_{p} \\end{array} \\right]\n",
    "& = \n",
    "\\left[ \\begin{array}{ccccc}\n",
    "\\ell_{1 1} & \\cdots & \\ell_{1 m} \\\\\n",
    "\\vdots  & \\ddots & \\vdots \\\\\n",
    "\\ell_{p 1} & \\cdots & \\ell_{p m} \\end{array} \\right]\n",
    "\\left[ \\begin{array}{ccccc}\n",
    "F_{1} \\\\\n",
    "\\vdots \\\\\n",
    "F_{p} \\end{array} \\right]\n",
    "+\n",
    "\\left[ \\begin{array}{ccccc}\n",
    "\\varepsilon_{1} \\\\\n",
    "\\vdots  \\\\\n",
    "\\varepsilon_{p} \\end{array} \\right]\\\\\n",
    "\\\\\n",
    "\\textbf{x} & =\\textbf{LF}+\\mathbf{\\epsilon}\\\\\n",
    "\\end{align*}\n",
    "$$\n",
    "\n",
    "The coeficient matrix $\\mathbf{L}$ is called matrix of factor loadings, some assumptions for the model are as follows:\n",
    " * $E[\\mathbf{F}]=0$\n",
    " * $E[\\mathbf{\\epsilon}]=0$\n",
    " * $Cov[\\mathbf{\\epsilon}]=E[\\mathbf{\\epsilon \\epsilon'}]=\\mathbf{\\Psi}=diag(\\Psi_1,\\dots,\\Psi_p)$\n",
    " * Ortogonality in factors: $Cov[\\mathbf{F}]=E[\\mathbf{FF'}]=\\mathbf{I_m}$\n",
    " * $\\mathbf{F}$ and $\\mathbf{\\epsilon}$ are independent: $Cov[\\mathbf{\\epsilon,F}]=E[\\mathbf{\\epsilon F'}]=0$\n",
    "\n",
    "This model is knowed as ortogonal factor model, and implies covariance structure for $\\mathbf{x}$.\n",
    "\n",
    "$$\n",
    "\\begin{align*}\n",
    "\\mathbf{\\Sigma}&= E[\\mathbf{xx'}] \\\\\n",
    "&= E[(\\textbf{LF}+\\mathbf{\\epsilon})(\\textbf{LF}+\\mathbf{\\epsilon})']\\\\\n",
    "&= E[(\\textbf{LF}+\\mathbf{\\epsilon})((\\textbf{LF})'+\\mathbf{\\epsilon}')]\\\\\n",
    "&= E[\\textbf{LF}(\\textbf{LF})'+\\mathbf{\\epsilon}(\\textbf{LF})'+\\textbf{LF}\\mathbf{\\epsilon}'+\\mathbf{\\epsilon}\\mathbf{\\epsilon}']\\\\\n",
    "&= E[\\textbf{LF}(\\textbf{LF})']+E[\\mathbf{\\epsilon}(\\textbf{LF})']+E[\\textbf{LF}\\mathbf{\\epsilon}']+E[\\mathbf{\\epsilon}\\mathbf{\\epsilon}']\\\\\n",
    "&= E[\\textbf{LFF'L}]+E[\\mathbf{\\epsilon F'L'}]+E[\\textbf{LF}\\mathbf{\\epsilon}']+E[\\mathbf{\\epsilon}\\mathbf{\\epsilon}']\\\\\n",
    "&= \\textbf{L}E[\\textbf{FF'}]\\textbf{L'}+E[\\mathbf{\\epsilon F'}]\\textbf{L'}+\\textbf{L'}E[\\textbf{F}\\mathbf{\\epsilon}']+E[\\mathbf{\\epsilon}\\mathbf{\\epsilon}']\\\\\n",
    "\\mathbf{\\Sigma}&= \\textbf{LL'}+\\mathbf{\\Psi}\\\\\n",
    "\\end{align*}\n",
    "$$"
   ]
  }
 ],
 "metadata": {
  "kernelspec": {
   "display_name": "Python 3",
   "language": "python",
   "name": "python3"
  },
  "language_info": {
   "codemirror_mode": {
    "name": "ipython",
    "version": 3
   },
   "file_extension": ".py",
   "mimetype": "text/x-python",
   "name": "python",
   "nbconvert_exporter": "python",
   "pygments_lexer": "ipython3",
   "version": "3.6.2"
  }
 },
 "nbformat": 4,
 "nbformat_minor": 2
}
