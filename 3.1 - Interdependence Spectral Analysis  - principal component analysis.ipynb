{
 "cells": [
  {
   "cell_type": "markdown",
   "metadata": {},
   "source": [
    "# 3.1 Principal component analysis\n",
    "\n",
    "---\n",
    "> Erick Eduardo Aguilar Hernández:\n",
    "> * mat.ErickAguilar@gmail.com.mx\n",
    "> * isc.ErickAguilar@gmail.com\n",
    "\n",
    "---"
   ]
  },
  {
   "cell_type": "markdown",
   "metadata": {},
   "source": [
    "A principal component analysis is concerned with explained the variance  structure of a set of linear combinations whose general objetive its reduce data dimension and interpretation. Algebraically, principal components are a particular linear combination of p random variables $X_1,...,X_p$ that represent a change of basis obtained the new axes by the rotation of the original system. The new axes represent the directions with maximum variability and provides a simple and parsimonious description of the covariance structure.\n",
    "\n",
    "**Note**: Theire development desnt require a multivariate normal assumption, but principal components derived from multivariate normal populations have a usefull interpretations in terms of constant density ellipsoids. \n",
    "\n",
    "Lets the random vector $\\mathbf{x}=(\\mathbf{X_1,...,X_p}) \\in \\mathbb{R}^p$ with covariance matrix $\\mathbf{\\Sigma}$ and the asociated ordered eigenvalues $\\lambda_1 \\geq ... \\geq \\lambda_p \\geq 0$ and consider the linear combination.\n",
    "\n",
    "$$\n",
    "\\begin{align*}\n",
    "Y_{1}   & = a_{1 1} X_{1} + \\cdots + a_{1 p} X_{p} = \\mathbf{a_1 X'} \\\\\n",
    "\\vdots  & = \\vdots \\\\\n",
    "Y_{p}   & = a_{p 1} X_{1} + \\cdots + a_{p p} X_{p} = \\mathbf{a_2 X'} \\\\\n",
    "\\\\\n",
    "\\left[ \\begin{array}{ccccc}\n",
    "X_{1} \\\\\n",
    "\\vdots  \\\\\n",
    "X_{p} \\end{array} \\right]\n",
    "& = \n",
    "\\left[ \\begin{array}{ccccc}\n",
    "a_{1 1} & \\cdots & a_{1 p} \\\\\n",
    "\\vdots  & \\ddots & \\vdots \\\\\n",
    "a_{p 1} & \\cdots & a_{p p} \\end{array} \\right]\n",
    "\\left[ \\begin{array}{ccccc}\n",
    "X_{1} \\\\\n",
    "\\vdots  \\\\\n",
    "X_{p} \\end{array} \\right]\\\\\n",
    "\\\\\n",
    "\\textbf{x} & =\\textbf{Ax'} \\\\\n",
    "\\end{align*}\n",
    "$$\n",
    "\n",
    "Using the last results, we have: \n",
    "\n",
    "$$\n",
    "V(\\mathbf{Y_i}) = \\mathbf{a_i \\Sigma a_i}\\\\\n",
    "Cov(\\mathbf{Y_i,Y_k}) = \\mathbf{a_i \\Sigma a_k}\\\\\n",
    "$$\n",
    "\n",
    "The principal component are those uncorrelated linear combinations $Y_1,...Y_p$ whose variances are larger as possible.\n",
    "\n",
    "* First principal component = linear combination $\\mathbf{a_1 X'}$ that maximizes $V(\\mathbf{a_1 X'})$ subject to $<\\mathbf{a_1',a_1}>$=1\n",
    "* Second principal component = linear combination $\\mathbf{a_1 X'}$ that maximizes $V(\\mathbf{a_1 X'})$ subject to $<\\mathbf{a_2',a_2}>$=1 and $<\\mathbf{a_1',a_2}>$=0\n",
    "$$\\vdots$$\n",
    "* The ith principal component = linear combination $\\mathbf{a_i X'}$ that maximizes $V(\\mathbf{a_i X'})$ subject to $<\\mathbf{a_i',a_i}$>=1 and $<\\mathbf{a_i',a_k}>$=0 for $k < i$\n",
    "\n",
    "Sinces the covariance matrix $\\mathbf{\\Sigma}$ it's orthogonally diagonalizable, $\\mathbf{\\Sigma}=\\mathbf{\\Gamma \\Lambda \\Gamma'}$, If  $\\lambda_k \\mathbf{\\gamma_k}$ it's a eigen vector asociated to $\\mathbf{\\Sigma}$, it satisfy the principal components restrictions:\n",
    "1. $<\\mathbf{\\gamma_i',\\gamma_i}$>=1\n",
    "1. $<\\mathbf{\\gamma_i',\\gamma_0}$>=0 for $k < i$\n",
    "\n",
    "It remains to prove that the eigenvectors maximize the variance. Since $\\mathbf{\\Sigma^{1/2} = \\Gamma \\Lambda^{1/2} \\Gamma'}$ lets define the transformation $\\mathbf{y_{p \\times 1} = \\Gamma'_{p \\times p} x_{p \\times 1}}$ and consider the following function $\\mathbf{\\frac{x' \\Sigma x}{x' x}}$.\n",
    "\n",
    "$$\n",
    "\\begin{align*}\n",
    "\\mathbf{\\frac{x' \\Sigma x}{x' x}} &= \\mathbf{\\frac{x' \\Sigma^{1/2} \\Sigma^{1/2} x}{x' I x}} \\\\\n",
    "&= \\mathbf{\\frac{x' \\Gamma \\Lambda^{1/2} \\Gamma' \\Gamma \\Lambda^{1/2} \\Gamma' x}{x' \\Gamma \\Gamma' x}} \\\\\n",
    "&= \\mathbf{\\frac{y' \\Lambda^{1/2} I \\Lambda^{1/2} y}{y' y}} \\\\\n",
    "&= \\mathbf{\\frac{y' \\Lambda y}{y' y}} \\\\\n",
    "\\mathbf{\\frac{x' \\Sigma x}{x' x}} &= \\frac{\\sum_{k=0}^{p} \\lambda_k y_k^2}{\\sum_{k=0}^{p}y_k^2}\\\\\n",
    "\\end{align*}\n",
    "$$\n",
    "\n",
    "For some fixed eigenvalue $\\lambda_i$ this function it's quoted.\n",
    "\n",
    "$$\n",
    "\\begin{align*}\n",
    "\\frac{\\sum_{k=0}^{p} \\lambda_k y_k^2}{\\sum_{k=0}^{p}y_k^2} &\\leq \\frac{\\sum_{k=0}^{p} \\lambda_i y_k^2}{\\sum_{k=0}^{p}y_k^2}\\\\\n",
    "&=\\lambda_i \\frac{\\sum_{k=0}^{p} y_k^2}{\\sum_{k=0}^{p} y_k^2} \\\\\n",
    "\\mathbf{\\frac{x' \\Sigma x}{x' x}} &\\leq \\lambda_i \\\\\n",
    "\\end{align*}\n",
    "$$"
   ]
  },
  {
   "cell_type": "code",
   "execution_count": null,
   "metadata": {
    "collapsed": true
   },
   "outputs": [],
   "source": []
  }
 ],
 "metadata": {
  "kernelspec": {
   "display_name": "Python 3",
   "language": "python",
   "name": "python3"
  },
  "language_info": {
   "codemirror_mode": {
    "name": "ipython",
    "version": 3
   },
   "file_extension": ".py",
   "mimetype": "text/x-python",
   "name": "python",
   "nbconvert_exporter": "python",
   "pygments_lexer": "ipython3",
   "version": "3.6.1"
  }
 },
 "nbformat": 4,
 "nbformat_minor": 2
}
