{
 "cells": [
  {
   "cell_type": "markdown",
   "metadata": {},
   "source": [
    "# 3.1 Principal component analysis\n",
    "\n",
    "---\n",
    "> Erick Eduardo Aguilar Hernández:\n",
    "> * mat.ErickAguilar@gmail.com.mx\n",
    "> * isc.ErickAguilar@gmail.com\n",
    "\n",
    "---"
   ]
  },
  {
   "cell_type": "markdown",
   "metadata": {},
   "source": [
    "A principal component analysis is concerned with explained the variance  structure of a set of linear combinations whose general objetive its reduce data dimension and interpretation. Algebraically, principal components are a particular linear combination of p random variables $X_1,...,X_p$ that represent a change of basis obtained the new axes by the rotation of the original system. The new axes represent the directions with maximum variability and provides a simple and parsimonious description of the covariance structure.\n",
    "\n",
    "**Note**: Theire development desnt require a multivariate normal assumption, but principal components derived from multivariate normal populations have a usefull interpretations in terms of constant density ellipsoids. \n",
    "\n",
    "Lets the random vector $\\mathbf{x}=(X_1,...,X_p) \\in \\mathbb{R}^p$ with covariance matrix $\\mathbf{\\Sigma}$ and the asociated ordered eigenvalues $\\lambda_1 \\geq ... \\geq \\lambda_p \\geq 0$ and consider the linear combination.\n",
    "\n",
    "$$\n",
    "\\begin{align*}\n",
    "Y_{1}   & = a_{1 1} X_{1} + \\cdots + a_{1 p} X_{p} = \\mathbf{a_1 x'} \\\\\n",
    "\\vdots  & = \\vdots \\\\\n",
    "Y_{p}   & = a_{p 1} X_{1} + \\cdots + a_{p p} X_{p} = \\mathbf{a_2 x'} \\\\\n",
    "\\\\\n",
    "\\left[ \\begin{array}{ccccc}\n",
    "X_{1} \\\\\n",
    "\\vdots  \\\\\n",
    "X_{p} \\end{array} \\right]\n",
    "& = \n",
    "\\left[ \\begin{array}{ccccc}\n",
    "a_{1 1} & \\cdots & a_{1 p} \\\\\n",
    "\\vdots  & \\ddots & \\vdots \\\\\n",
    "a_{p 1} & \\cdots & a_{p p} \\end{array} \\right]\n",
    "\\left[ \\begin{array}{ccccc}\n",
    "X_{1} \\\\\n",
    "\\vdots  \\\\\n",
    "X_{p} \\end{array} \\right]\\\\\n",
    "\\\\\n",
    "\\textbf{x} & =\\textbf{Ax'} \\\\\n",
    "\\end{align*}\n",
    "$$\n",
    "\n",
    "Using the last results, we have: \n",
    "\n",
    "$$\n",
    "V(\\mathbf{Y_i}) = \\mathbf{a_i \\Sigma a_i}\\\\\n",
    "Cov(\\mathbf{Y_i,Y_k}) = \\mathbf{a_i \\Sigma a_k}\\\\\n",
    "$$\n",
    "\n",
    "The principal component are those uncorrelated linear combinations $Y_1,...Y_p$ whose variances are larger as possible. We know that $V(\\mathbf{Y}) = \\mathbf{a \\Sigma a}$ but this expression could be increased by multiplying any constant by $\\mathbf{a}$. To eliminate this indeterminacy its necesary to restrict to coeficient vectors of lenght 1.  \n",
    "\n",
    "* First principal component = linear combination $\\mathbf{a_1 X'}$ that maximizes $V(\\mathbf{a_1 X'})$ subject to $<\\mathbf{a_1',a_1}>$=1\n",
    "* Second principal component = linear combination $\\mathbf{a_1 X'}$ that maximizes $V(\\mathbf{a_1 X'})$ subject to $<\\mathbf{a_2',a_2}>$=1 and $<\\mathbf{a_1',a_2}>$=0\n",
    "$$\\vdots$$\n",
    "* The ith principal component = linear combination $\\mathbf{a_i X'}$ that maximizes $V(\\mathbf{a_i X'})$ subject to $<\\mathbf{a_i',a_i}$>=1 and $<\\mathbf{a_i',a_k}>$=0 for $k < i$\n",
    "\n",
    "Sinces the covariance matrix $\\mathbf{\\Sigma}$ it's orthogonally diagonalizable, $\\mathbf{\\Sigma}=\\mathbf{\\Gamma \\Lambda \\Gamma'}$, If  $\\lambda_k \\mathbf{\\gamma_k}$ it's a eigen vector asociated to $\\mathbf{\\Sigma}$, it satisfy the principal components restrictions:\n",
    "1. $<\\mathbf{\\gamma_i',\\gamma_i}$>=1\n",
    "1. $<\\mathbf{\\gamma_i',\\gamma_0}$>=0 for $k < i$\n",
    "\n",
    "It remains to prove that variance as function of $\\mathbf{a} $it's quoted and the eigenvectors maximize the variance. Considering the restrictions that $\\mathbf{a}$ must satify it clear that $\\mathbf{a' \\Sigma a}$ and $\\mathbf{\\frac{a' \\Sigma a}{a' a}}$ have the same maximum where $\\mathbf{\\frac{a' \\Sigma a}{a' a}}$ eliminates the problem of the constant. Considering the next transformation $\\mathbf{b}=\\mathbf{\\Gamma' a}$ we have:\n",
    "\n",
    "$$\n",
    "\\begin{align*}\n",
    "\\mathbf{\\frac{a' \\Sigma a}{a' a}} &= \\mathbf{\\frac{a' \\Sigma^{1/2} \\Sigma^{1/2} a}{a' I a}} \\\\\n",
    "&= \\mathbf{\\frac{a' \\Gamma \\Lambda^{1/2} \\Gamma' \\Gamma \\Lambda^{1/2} \\Gamma' a}{a' \\Gamma \\Gamma' x}} \\\\\n",
    "&= \\mathbf{\\frac{b' \\Lambda^{1/2} I \\Lambda^{1/2} b}{b' b}} \\\\\n",
    "&= \\mathbf{\\frac{b' \\Lambda b}{b' b}} \\\\\n",
    "\\mathbf{\\frac{a' \\Sigma a}{a' a}} &= \\frac{\\sum_{k=1}^{p} \\lambda_k b_k^2}{\\sum_{k=1}^{p}b_k^2}\\\\\n",
    "\\end{align*}\n",
    "$$\n",
    "\n",
    "Since $\\lambda_1 \\geq \\lambda_2 \\geq \\dots \\lambda_p$ then\n",
    "\n",
    "$$\\lambda_1 y_1^2 + \\lambda_2 b_2^2 + \\dots +\\lambda_p b_p^2 \\leq \\lambda_1 b_1^2 + \\lambda_1 b_2^2 + \\dots +\\lambda_1 b_p^2$$\n",
    "\n",
    "\n",
    "For the ordered ith eigenvalue $\\lambda_i$ this function it's quoted.\n",
    "\n",
    "$$\n",
    "\\begin{align*}\n",
    "\\frac{\\sum_{k=i}^{p} \\lambda_k b_k^2}{\\sum_{k=i}^{p}b_k^2} &\\leq \\frac{\\sum_{k=i}^{p} \\lambda_i b_k^2}{\\sum_{k=i}^{p}b_k^2}\\\\\n",
    "\\frac{\\sum_{k=i}^{p} \\lambda_k b_k^2}{\\sum_{k=i}^{p}y_k^2} &\\leq \\lambda_i \\\\\n",
    "\\end{align*}\n",
    "$$\n",
    "\n",
    "In particular for $\\lambda_1$ \n",
    "\n",
    "$$\n",
    "\\begin{align*}\n",
    "\\mathbf{\\frac{a' \\Sigma a}{a' a}} &\\leq \\lambda_1 \\\\\n",
    "\\end{align*}\n",
    "$$\n",
    "\n",
    "If some value of $\\mathbf{x}$ the function reach the quote, then this point its a critical point and maximize the function, so replacing the first eigenvalue $\\gamma_i$:\n",
    "\n",
    "$$\n",
    "\\begin{align*}\n",
    "\\mathbf{\\frac{a' \\Sigma a}{a' a}} &= \\mathbf{\\frac{\\gamma_i' \\Sigma \\gamma_i}{\\gamma_i' \\gamma_i}} \\\\\n",
    "&= \\mathbf{\\gamma_i' \\Sigma \\gamma_i} \\\\\n",
    "&= \\mathbf{\\lambda_i} \\\\\n",
    "\\mathbf{\\gamma_i' \\Sigma \\gamma_i} &= V(\\mathbf{\\gamma_i x'}) = \\mathbf{\\lambda_i} \\\\\n",
    "\\end{align*}\n",
    "$$\n",
    "\n",
    "Then $\\gamma_i$ reach the maximum variance for $\\mathbf{Y_i = \\gamma_i x'}$, then $\\mathbf{\\gamma_i x'}$ its the ith principal component, so the linear combination that maximizes the variances is:\n",
    "\n",
    "$$\n",
    "\\begin{align*}\n",
    "Y_{1}   & = \\gamma_{1 1} X_{1} + \\cdots + \\gamma_{1 p} X_{p} = \\mathbf{\\gamma_1 x'} \\\\\n",
    "\\vdots  & = \\vdots \\\\\n",
    "Y_{p}   & = \\gamma_{p 1} X_{1} + \\cdots + \\gamma_{p p} X_{p} = \\mathbf{\\gamma_p x'} \\\\\n",
    "\\end{align*}\n",
    "$$\n",
    "\n",
    "**Explained variability ratios:**\n",
    "\n",
    "From the spectral analysis we have \n",
    "\n",
    "$$\n",
    "\\begin{align*}\n",
    "\\Sigma&=\\sum_{k=1}^p\\lambda_k\\mathbf{\\gamma_k'\\gamma_k}\\\\\n",
    "tr[ \\Sigma ] &= tr \\left[ \\sum_{k=1}^p\\lambda_k\\mathbf{\\gamma_k'\\gamma_k} \\right]\\\\\n",
    "&= \\sum_{k=1}^p \\lambda_k tr \\left[ \\mathbf{\\gamma_k'\\gamma_k} \\right]\\\\\n",
    "tr[ \\Sigma ] &= \\sum_{k=1}^p \\lambda_k \\\\\n",
    "\\end{align*}\n",
    "$$\n",
    "\n",
    "The percentage of variability that contributes the i-th component is given by:\n",
    "\n",
    "$$\\frac{\\lambda_i}{tr[\\mathbf{\\Sigma}]}=\\frac{\\lambda_i}{\\lambda_1+\\dots+\\lambda_p}$$\n",
    "\n",
    "The cumulated percentaje of variability untill the i-th component is:\n",
    "\n",
    "$$\\frac{\\sum_{k=1}^{i}\\lambda_k}{tr[\\mathbf{\\Sigma}]}=\\frac{\\lambda_1+\\lambda_i}{\\lambda_1+\\dots+\\lambda_p}$$\n",
    "\n",
    "\n",
    "The number of principal components is taken so that the accumulated explained variability is close to a value specified by the scientist, for example 80%. On the other hand, if the representation of is stabilized from a certain eigenvalue, then increase the dimension hardly provides more explained variability.\n",
    "\n",
    "# Biplot\n",
    "---\n",
    "\n",
    "A biplot its a generalization of the simple two-variable scatterplot. A biplot allows information on both samples and variables of a data matrix to be displayed graphically. Samples are displayed as points while variables are displayed either as vectors. The prefix \"bi\" refers to the overlap, in the same plot variables and observtions.\n",
    "\n",
    "A biplot for a matrix $\\mathbf{X_{n \\times p}}$ is a graphic representation by p vectors (markers) $v_1,\\dots,v_p$ for the n rows $u_1,\\dots, u_n$ of $\\mathbf{X}$ such that the element $x_{ij} \\approx \\mathbf{v_i u_j'}$ as well as possible.\n",
    "\n",
    "$$\\mathbf{X \\approx UV'}$$\n",
    "\n",
    "For the euclidean space $\\mathbb{R^2}$ if the matrix $\\mathbf{X}$ has range 2 the aproximations will be exactly in other case it will be an aproximation. Consider the PCA transformation:\n",
    "\n",
    "$$\n",
    "\\begin{align*}\n",
    "\\mathbf{x \\Gamma}&=\\mathbf{y}\\\\\n",
    "\\mathbf{x} &=\\mathbf{y \\Gamma'}\\\\\n",
    "\\\\\n",
    "X_{1}   & = \\gamma_{1 1} Y_{1} + \\cdots + \\gamma_{p 1} Y_{p}\\\\\n",
    "\\vdots  & = \\vdots \\\\\n",
    "X_{p}   & = \\gamma_{1 p} Y_{1} + \\cdots + \\gamma_{p p} Y_{p}\\\\\n",
    "\\\\\n",
    "\\end{align*}\n",
    "$$\n",
    "\n",
    "\n",
    "Taking the first i ordered components.\n",
    "\n",
    "$$\n",
    "\\begin{align*}\n",
    "X_{1}   & \\approx \\gamma_{1 1} Y_{1} + \\cdots + \\gamma_{i 1} Y_{i}\\\\\n",
    "\\vdots  & \\approx \\vdots \\\\\n",
    "X_{p}   & \\approx \\gamma_{1 p} Y_{1} + \\cdots + \\gamma_{i p} Y_{i}\\\\\n",
    "\\\\\n",
    "\\end{align*}\n",
    "$$\n",
    "\n",
    "The markers will be the first columns of the variables transformed to the new space and the vectors the first columns of the base change matrix. This approximation depends on the number of principal components taken (usually 2), the resolution of the biplot its given by the cumulated percentaje of variability untill the i-th component.\n",
    "\n",
    "**Example 3.1 - 1 [Principal component analysis of iris plants]**\n",
    "\n",
    "Loading some functions and packages"
   ]
  },
  {
   "cell_type": "code",
   "execution_count": 1,
   "metadata": {
    "collapsed": true
   },
   "outputs": [],
   "source": [
    "run MvaUtils.py"
   ]
  },
  {
   "cell_type": "code",
   "execution_count": 2,
   "metadata": {
    "collapsed": true
   },
   "outputs": [],
   "source": [
    "%matplotlib inline\n",
    "import matplotlib.pyplot as plt\n",
    "import pandas as pd\n",
    "import seaborn as sns\n",
    "from pyspark import SparkContext\n",
    "from IPython.display import display, HTML\n",
    "from pyspark.sql import SQLContext\n",
    "from pyspark.ml.feature import PCA\n",
    "from pyspark.ml.linalg import Vectors\n",
    "from pyspark.sql import Column as c\n",
    "from pyspark.sql.functions import array, udf, lit, col as cç\n",
    "pd.set_option('max_colwidth',100)\n",
    "plt.style.use('seaborn-paper')"
   ]
  },
  {
   "cell_type": "markdown",
   "metadata": {},
   "source": [
    "Setting up the spark context"
   ]
  },
  {
   "cell_type": "code",
   "execution_count": 3,
   "metadata": {
    "collapsed": true
   },
   "outputs": [],
   "source": [
    "try:\n",
    "    sc = SparkContext('local[*]')\n",
    "except:\n",
    "    sc = SparkContext.getOrCreate('local[*]')\n",
    "\n",
    "sqlContext = SQLContext(sc)\n",
    "irisPath = 'DataSets/Iris.csv'\n",
    "p = 4"
   ]
  },
  {
   "cell_type": "markdown",
   "metadata": {},
   "source": [
    "Reading the iris dataset, centering and transforming the centered dataset in to dataframe of vectors and labels."
   ]
  },
  {
   "cell_type": "code",
   "execution_count": 4,
   "metadata": {
    "collapsed": true
   },
   "outputs": [],
   "source": [
    "irisDF = sqlContext.read.format('com.databricks.spark.csv')\\\n",
    "                   .options(header='true',inferschema='true')\\\n",
    "                   .load(irisPath)\n",
    "meanVector = irisDF.describe().where(c('summary')==lit('mean'))\\\n",
    "                   .select(['SepalLengthCm','SepalWidthCm','PetalLengthCm','PetalWidthCm'])\\\n",
    "                   .toPandas().as_matrix()[0]\n",
    "labeledVectorsDF = irisDF.rdd.map(lambda x:(Vectors.dense(x[0:p]-Vectors.dense(meanVector)),x[p]))\\\n",
    "                         .toDF(['features','species'])"
   ]
  },
  {
   "cell_type": "markdown",
   "metadata": {},
   "source": [
    "Fiting the data into pca model (from pyspark.ml.feature package) and transforming the dataset into new space."
   ]
  },
  {
   "cell_type": "code",
   "execution_count": 5,
   "metadata": {
    "collapsed": true
   },
   "outputs": [],
   "source": [
    "pcaModel = PCA(k=p, inputCol=\"features\", outputCol=\"transformationPCA\").fit(labeledVectorsDF)\n",
    "result = pcaModel.transform(labeledVectorsDF)"
   ]
  },
  {
   "cell_type": "markdown",
   "metadata": {},
   "source": [
    "### Scree Plot\n",
    "___\n",
    "Obataining and ploting the percetage of expained variability."
   ]
  },
  {
   "cell_type": "code",
   "execution_count": 6,
   "metadata": {},
   "outputs": [
    {
     "data": {
      "text/html": [
       "<div>\n",
       "<table border=\"1\" class=\"dataframe\">\n",
       "  <thead>\n",
       "    <tr style=\"text-align: right;\">\n",
       "      <th></th>\n",
       "      <th>explained variance</th>\n",
       "    </tr>\n",
       "  </thead>\n",
       "  <tbody>\n",
       "    <tr>\n",
       "      <th>0</th>\n",
       "      <td>0.924616</td>\n",
       "    </tr>\n",
       "    <tr>\n",
       "      <th>1</th>\n",
       "      <td>0.053016</td>\n",
       "    </tr>\n",
       "    <tr>\n",
       "      <th>2</th>\n",
       "      <td>0.017185</td>\n",
       "    </tr>\n",
       "    <tr>\n",
       "      <th>3</th>\n",
       "      <td>0.005183</td>\n",
       "    </tr>\n",
       "  </tbody>\n",
       "</table>\n",
       "</div>"
      ],
      "text/plain": [
       "   explained variance\n",
       "0            0.924616\n",
       "1            0.053016\n",
       "2            0.017185\n",
       "3            0.005183"
      ]
     },
     "execution_count": 6,
     "metadata": {},
     "output_type": "execute_result"
    },
    {
     "data": {
      "image/png": "[encoded data removed]",
      "text/plain": [
       "<matplotlib.figure.Figure at 0x7f063d6e38d0>"
      ]
     },
     "metadata": {},
     "output_type": "display_data"
    }
   ],
   "source": [
    "plt.figure(figsize=(7,7))\n",
    "eigenvalues = [float(value) for value in pcaModel.explainedVariance]\n",
    "plt.bar(list(range(1,len(eigenvalues)+1)),eigenvalues)\n",
    "pd.DataFrame(eigenvalues,columns=['explained variance'])"
   ]
  },
  {
   "cell_type": "markdown",
   "metadata": {},
   "source": [
    "Labeling the transformed dataset with the original sub set which comes from."
   ]
  },
  {
   "cell_type": "code",
   "execution_count": 7,
   "metadata": {
    "collapsed": true
   },
   "outputs": [],
   "source": [
    "schema = ['pc'+str(k+1) for k in range(0,p)]\n",
    "setosaComponentsDF = result.where(c('species') == lit('Iris-setosa'))\\\n",
    "                           .select(['transformationPCA']).rdd\\\n",
    "                           .map(lambda r: [float(r[0].values[k]) for k in range (0,p)])\\\n",
    "                           .toDF(schema)\n",
    "versicolorComponentsDF = result.where(c('species') == lit('Iris-versicolor'))\\\n",
    "                           .select(['transformationPCA']).rdd\\\n",
    "                           .map(lambda r: [float(r[0].values[k]) for k in range (0,p)])\\\n",
    "                           .toDF(schema)\n",
    "virginicaComponentsDF = result.where(c('species') == lit('Iris-virginica'))\\\n",
    "                           .select(['transformationPCA']).rdd\\\n",
    "                           .map(lambda r: [float(r[0].values[k]) for k in range (0,p)])\\\n",
    "                           .toDF(schema)\n",
    "projectedCanonicalsPD = pd.DataFrame([k for k in pcaModel.pc.toArray()],\\\n",
    "                                     columns=schema)"
   ]
  },
  {
   "cell_type": "markdown",
   "metadata": {},
   "source": [
    "### Biplot\n",
    "___\n",
    "Ploting the transformed dataset and the projection of the canonical base taking only 2 components in to two dimension space."
   ]
  },
  {
   "cell_type": "code",
   "execution_count": 8,
   "metadata": {},
   "outputs": [
    {
     "data": {
      "image/png": "[encoded data removed]",
      "text/plain": [
       "<matplotlib.figure.Figure at 0x7f063c5a4860>"
      ]
     },
     "metadata": {},
     "output_type": "display_data"
    },
    {
     "data": {
      "text/html": [
       "<div>\n",
       "<table border=\"1\" class=\"dataframe\">\n",
       "  <thead>\n",
       "    <tr style=\"text-align: right;\">\n",
       "      <th></th>\n",
       "      <th>Summary</th>\n",
       "      <th>Iris-setosa</th>\n",
       "    </tr>\n",
       "  </thead>\n",
       "  <tbody>\n",
       "    <tr>\n",
       "      <th>0</th>\n",
       "      <td>Mean</td>\n",
       "      <td>[2.64084075831, -0.190519952781]</td>\n",
       "    </tr>\n",
       "    <tr>\n",
       "      <th>1</th>\n",
       "      <td>Covariance matrix</td>\n",
       "      <td>[[0.0487453847325, 0.0570487925987], [0.0570487925987, 0.219105669582]]</td>\n",
       "    </tr>\n",
       "    <tr>\n",
       "      <th>2</th>\n",
       "      <td>EigenValues</td>\n",
       "      <td>[0.0314061563024, 0.236444898012]</td>\n",
       "    </tr>\n",
       "    <tr>\n",
       "      <th>3</th>\n",
       "      <td>EigenVectors</td>\n",
       "      <td>[[-0.956783350319, 0.290801685953], [0.290801685953, 0.956783350319]]</td>\n",
       "    </tr>\n",
       "    <tr>\n",
       "      <th>4</th>\n",
       "      <td>Confidence</td>\n",
       "      <td>0.95</td>\n",
       "    </tr>\n",
       "    <tr>\n",
       "      <th>5</th>\n",
       "      <td>Chi-squared critical value</td>\n",
       "      <td>5.99146</td>\n",
       "    </tr>\n",
       "  </tbody>\n",
       "</table>\n",
       "</div>"
      ],
      "text/plain": [
       "                      Summary  \\\n",
       "0                        Mean   \n",
       "1           Covariance matrix   \n",
       "2                 EigenValues   \n",
       "3                EigenVectors   \n",
       "4                  Confidence   \n",
       "5  Chi-squared critical value   \n",
       "\n",
       "                                                               Iris-setosa  \n",
       "0                                         [2.64084075831, -0.190519952781]  \n",
       "1  [[0.0487453847325, 0.0570487925987], [0.0570487925987, 0.219105669582]]  \n",
       "2                                        [0.0314061563024, 0.236444898012]  \n",
       "3    [[-0.956783350319, 0.290801685953], [0.290801685953, 0.956783350319]]  \n",
       "4                                                                     0.95  \n",
       "5                                                                  5.99146  "
      ]
     },
     "metadata": {},
     "output_type": "display_data"
    },
    {
     "data": {
      "text/html": [
       "<div>\n",
       "<table border=\"1\" class=\"dataframe\">\n",
       "  <thead>\n",
       "    <tr style=\"text-align: right;\">\n",
       "      <th></th>\n",
       "      <th>Summary</th>\n",
       "      <th>Iris-versicolor</th>\n",
       "    </tr>\n",
       "  </thead>\n",
       "  <tbody>\n",
       "    <tr>\n",
       "      <th>0</th>\n",
       "      <td>Mean</td>\n",
       "      <td>[-0.531992616895, 0.244029633055]</td>\n",
       "    </tr>\n",
       "    <tr>\n",
       "      <th>1</th>\n",
       "      <td>Covariance matrix</td>\n",
       "      <td>[[0.356115952218, 0.198399558202], [0.198399558202, 0.184479351333]]</td>\n",
       "    </tr>\n",
       "    <tr>\n",
       "      <th>2</th>\n",
       "      <td>EigenValues</td>\n",
       "      <td>[0.0541329798569, 0.486462323694]</td>\n",
       "    </tr>\n",
       "    <tr>\n",
       "      <th>3</th>\n",
       "      <td>EigenVectors</td>\n",
       "      <td>[[0.549088206784, -0.835764405303], [-0.835764405303, -0.549088206784]]</td>\n",
       "    </tr>\n",
       "    <tr>\n",
       "      <th>4</th>\n",
       "      <td>Confidence</td>\n",
       "      <td>0.95</td>\n",
       "    </tr>\n",
       "    <tr>\n",
       "      <th>5</th>\n",
       "      <td>Chi-squared critical value</td>\n",
       "      <td>5.99146</td>\n",
       "    </tr>\n",
       "  </tbody>\n",
       "</table>\n",
       "</div>"
      ],
      "text/plain": [
       "                      Summary  \\\n",
       "0                        Mean   \n",
       "1           Covariance matrix   \n",
       "2                 EigenValues   \n",
       "3                EigenVectors   \n",
       "4                  Confidence   \n",
       "5  Chi-squared critical value   \n",
       "\n",
       "                                                           Iris-versicolor  \n",
       "0                                        [-0.531992616895, 0.244029633055]  \n",
       "1     [[0.356115952218, 0.198399558202], [0.198399558202, 0.184479351333]]  \n",
       "2                                        [0.0541329798569, 0.486462323694]  \n",
       "3  [[0.549088206784, -0.835764405303], [-0.835764405303, -0.549088206784]]  \n",
       "4                                                                     0.95  \n",
       "5                                                                  5.99146  "
      ]
     },
     "metadata": {},
     "output_type": "display_data"
    },
    {
     "data": {
      "text/html": [
       "<div>\n",
       "<table border=\"1\" class=\"dataframe\">\n",
       "  <thead>\n",
       "    <tr style=\"text-align: right;\">\n",
       "      <th></th>\n",
       "      <th>Summary</th>\n",
       "      <th>Iris-virginica</th>\n",
       "    </tr>\n",
       "  </thead>\n",
       "  <tbody>\n",
       "    <tr>\n",
       "      <th>0</th>\n",
       "      <td>Mean</td>\n",
       "      <td>[-2.10884814142, -0.0535096802736]</td>\n",
       "    </tr>\n",
       "    <tr>\n",
       "      <th>1</th>\n",
       "      <td>Covariance matrix</td>\n",
       "      <td>[[0.498943714918, 0.275277189886], [0.275277189886, 0.232307064137]]</td>\n",
       "    </tr>\n",
       "    <tr>\n",
       "      <th>2</th>\n",
       "      <td>EigenValues</td>\n",
       "      <td>[0.0597638078335, 0.671486971221]</td>\n",
       "    </tr>\n",
       "    <tr>\n",
       "      <th>3</th>\n",
       "      <td>EigenVectors</td>\n",
       "      <td>[[0.531094167639, -0.847312802393], [-0.847312802393, -0.531094167639]]</td>\n",
       "    </tr>\n",
       "    <tr>\n",
       "      <th>4</th>\n",
       "      <td>Confidence</td>\n",
       "      <td>0.95</td>\n",
       "    </tr>\n",
       "    <tr>\n",
       "      <th>5</th>\n",
       "      <td>Chi-squared critical value</td>\n",
       "      <td>5.99146</td>\n",
       "    </tr>\n",
       "  </tbody>\n",
       "</table>\n",
       "</div>"
      ],
      "text/plain": [
       "                      Summary  \\\n",
       "0                        Mean   \n",
       "1           Covariance matrix   \n",
       "2                 EigenValues   \n",
       "3                EigenVectors   \n",
       "4                  Confidence   \n",
       "5  Chi-squared critical value   \n",
       "\n",
       "                                                            Iris-virginica  \n",
       "0                                       [-2.10884814142, -0.0535096802736]  \n",
       "1     [[0.498943714918, 0.275277189886], [0.275277189886, 0.232307064137]]  \n",
       "2                                        [0.0597638078335, 0.671486971221]  \n",
       "3  [[0.531094167639, -0.847312802393], [-0.847312802393, -0.531094167639]]  \n",
       "4                                                                     0.95  \n",
       "5                                                                  5.99146  "
      ]
     },
     "metadata": {},
     "output_type": "display_data"
    }
   ],
   "source": [
    "col_1,col_2='pc1','pc2'\n",
    "alpha=0.05\n",
    "freedomDegrees=2\n",
    "plt.figure(figsize=(15,10))\n",
    "plt.axis([-5.4,5,-1.7,1.7])\n",
    "plotProjectedBase(plt,['pc1','pc2'],projectedCanonicalsPD,irisDF.columns)\n",
    "scatterPlot(plt,setosaComponentsDF,col_1,col_2,'Green')\n",
    "summaryIrisPD = getProbabilityDensityContour(plt,setosaComponentsDF,\\\n",
    "                            [col_1,col_2],alpha,freedomDegrees,\\\n",
    "                             color='green',name='Iris-setosa')\n",
    "scatterPlot(plt,versicolorComponentsDF,col_1,col_2,'Blue')\n",
    "summaryVersicolorPD = getProbabilityDensityContour(plt,versicolorComponentsDF,\\\n",
    "                            [col_1,col_2],alpha,freedomDegrees,\\\n",
    "                             color='Blue',name='Iris-versicolor')\n",
    "scatterPlot(plt,virginicaComponentsDF,col_1,col_2,'Red')\n",
    "summaryVirginicaPD = getProbabilityDensityContour(plt,virginicaComponentsDF,\\\n",
    "                            [col_1,col_2],alpha,freedomDegrees,\\\n",
    "                             color='Red',name='Iris-virginica')\n",
    "plt.xlabel(col_1+' '+str(eigenvalues[0]*100)+' %')\n",
    "plt.ylabel(col_2+' '+str(eigenvalues[1]*100)+' %')\n",
    "plt.show()\n",
    "display(summaryIrisPD)\n",
    "display(summaryVersicolorPD)\n",
    "display(summaryVirginicaPD)"
   ]
  }
 ],
 "metadata": {
  "kernelspec": {
   "display_name": "Python 3",
   "language": "python",
   "name": "python3"
  },
  "language_info": {
   "codemirror_mode": {
    "name": "ipython",
    "version": 3
   },
   "file_extension": ".py",
   "mimetype": "text/x-python",
   "name": "python",
   "nbconvert_exporter": "python",
   "pygments_lexer": "ipython3",
   "version": "3.6.2"
  }
 },
 "nbformat": 4,
 "nbformat_minor": 2
}
